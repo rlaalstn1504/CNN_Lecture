{
 "cells": [
  {
   "cell_type": "markdown",
   "id": "fd5fbe5e",
   "metadata": {
    "id": "fd5fbe5e"
   },
   "source": [
    "## 데이터 검증의 중요성\n",
    "\n",
    "**부정확하거나 일관되지 않은 라벨:**\n",
    "- 라벨의 오류는 모델의 성능을 저하시킬 수 있습니다. 모델이 잘못된 라벨을 학습하면, 정확성, 정밀도, 재현율과 같은 성능 지표가 모두 감소하게 됩니다.\n",
    "\n",
    "**왜곡된 라벨링:**  \n",
    "- 라벨이 실제 시나리오를 제대로 대표하지 못할 경우, 모델은 새로운 데이터에 대해 일반화하지 못할 위험이 있습니다. 이는 모델이 실제 환경에서 예측 성능이 떨어지게 만드는 주요 원인이 됩니다.\n",
    "\n",
    "**비용 문제:**\n",
    "- 모델 학습 후에 잘못된 라벨을 수정하는 것은 많은 시간과 계산 리소스를 필요로 합니다. 사전에 정확한 라벨링을 보장하는 것이 훨씬 더 비용 효율적입니다.\n",
    "\n",
    "**편향 문제:**  \n",
    "- 일관되지 않거나 부정확한 라벨링은 모델에 편향을 초래할 수 있습니다. 이는 특정 그룹이나 시나리오에 대해 모델이 불공평하거나 비효율적인 결정을 내리는 결과를 초래할 수 있습니다.\n",
    "\n",
    "**디버깅 어려움:**  \n",
    "- 라벨링 오류는 모델 디버깅을 더 어렵게 만듭니다. 성능 저하가 모델 아키텍처, 하이퍼파라미터, 혹은 데이터 자체의 문제로 인한 것인지 구별하기가 힘들어질 수 있습니다.\n",
    "\n",
    "**신뢰성:**\n",
    "- 기계 학습 모델의 신뢰성과 효율성은 사용자 신뢰에 매우 중요합니다. 잘못된 라벨이 포함된 데이터는 특히 의료, 금융, 또는 안전이 중요한 시스템에서 모델의 신뢰성을 크게 약화시킬 수 있습니다."
   ]
  },
  {
   "cell_type": "markdown",
   "id": "42b8216c",
   "metadata": {
    "id": "42b8216c"
   },
   "source": [
    "## 라이브러리 import"
   ]
  },
  {
   "cell_type": "code",
   "execution_count": null,
   "id": "1707f878",
   "metadata": {
    "id": "1707f878"
   },
   "outputs": [],
   "source": [
    "import pandas as pd\n",
    "import numpy as np\n",
    "from tqdm import tqdm\n",
    "from glob import glob\n",
    "from typing import *\n",
    "from IPython.display import Image as IPImage\n",
    "from sklearn.model_selection import train_test_split\n",
    "import random\n",
    "import os\n",
    "import shutil\n",
    "from PIL import Image as Image\n",
    "import torch\n",
    "import torch.nn as nn\n",
    "import torch.optim as optim\n",
    "from torchvision import datasets, models, transforms\n",
    "from torch.utils.data import DataLoader, Dataset\n",
    "from torch.utils.data import ConcatDataset\n",
    "from sklearn.metrics import confusion_matrix, accuracy_score, f1_score\n",
    "import seaborn as sns\n",
    "import matplotlib.pyplot as plt\n",
    "from torchvision.transforms import functional as F"
   ]
  },
  {
   "cell_type": "code",
   "execution_count": null,
   "id": "o79y-sFKTeNu",
   "metadata": {
    "id": "o79y-sFKTeNu",
    "outputId": "87e01fc7-da4d-4544-f291-bf27dcdae067"
   },
   "outputs": [
    {
     "name": "stdout",
     "output_type": "stream",
     "text": [
      "True\n",
      "1\n"
     ]
    }
   ],
   "source": [
    "# 코랩에서 GPU 사용을 위해서는 별도의 설정이 필요합니다.\n",
    "# 상단 런타임 -> 런타임 유형 변경의 항목을 통해 CPU대신 사용 가능한 GPU로 하드웨어 가속기를 변경해줍니다.\n",
    "# 아래 코드는 GPU 사용이 가능한 상태인지 확인하는 코드로, 올바르게 GPU 설정이 되어있다면 TURE, 1이 출력됩니다.\n",
    "print(torch.cuda.is_available())\n",
    "print(torch.cuda.device_count())"
   ]
  },
  {
   "cell_type": "markdown",
   "id": "d331625f",
   "metadata": {
    "id": "d331625f"
   },
   "source": [
    "## GPU 환경 설정"
   ]
  },
  {
   "cell_type": "code",
   "execution_count": null,
   "id": "b0e19f59",
   "metadata": {
    "id": "b0e19f59",
    "outputId": "b9af1aaf-5fef-470e-cb01-a587bd81124e"
   },
   "outputs": [
    {
     "name": "stdout",
     "output_type": "stream",
     "text": [
      "Wed Nov 29 07:59:40 2023       \n",
      "+-----------------------------------------------------------------------------+\n",
      "| NVIDIA-SMI 450.80.02    Driver Version: 450.80.02    CUDA Version: 11.2     |\n",
      "|-------------------------------+----------------------+----------------------+\n",
      "| GPU  Name        Persistence-M| Bus-Id        Disp.A | Volatile Uncorr. ECC |\n",
      "| Fan  Temp  Perf  Pwr:Usage/Cap|         Memory-Usage | GPU-Util  Compute M. |\n",
      "|                               |                      |               MIG M. |\n",
      "|===============================+======================+======================|\n",
      "|   0  Tesla V100-DGXS...  On   | 00000000:0F:00.0 Off |                    0 |\n",
      "| N/A   39C    P0    37W / 300W |     14MiB / 32508MiB |      0%      Default |\n",
      "|                               |                      |                  N/A |\n",
      "+-------------------------------+----------------------+----------------------+\n",
      "                                                                               \n",
      "+-----------------------------------------------------------------------------+\n",
      "| Processes:                                                                  |\n",
      "|  GPU   GI   CI        PID   Type   Process name                  GPU Memory |\n",
      "|        ID   ID                                                   Usage      |\n",
      "|=============================================================================|\n",
      "+-----------------------------------------------------------------------------+\n"
     ]
    }
   ],
   "source": [
    "# nivida-smi 명령어를 통해 할당된 GPU의 정보에 대해 확인할 수 있습니다.\n",
    "!nvidia-smi"
   ]
  },
  {
   "cell_type": "markdown",
   "id": "432800ec",
   "metadata": {
    "id": "432800ec"
   },
   "source": [
    "## 랜덤시드 고정"
   ]
  },
  {
   "cell_type": "code",
   "execution_count": null,
   "id": "fdf9b001",
   "metadata": {
    "id": "fdf9b001"
   },
   "outputs": [],
   "source": [
    "def seed_everything(seed):\n",
    "    random.seed(seed)  # Python\n",
    "    np.random.seed(seed)  # NumPy\n",
    "    torch.manual_seed(seed)  # PyTorch\n",
    "    torch.cuda.manual_seed(seed)  # PyTorch cuda\n",
    "    torch.backends.cudnn.deterministic = True  # CuDNN\n",
    "    torch.backends.cudnn.benchmark = False  # CuDNN benchmark"
   ]
  },
  {
   "cell_type": "code",
   "execution_count": null,
   "id": "ee7cae7a",
   "metadata": {
    "id": "ee7cae7a"
   },
   "outputs": [],
   "source": [
    "seed_everything(seed=32)"
   ]
  },
  {
   "cell_type": "markdown",
   "id": "vN6yDPolm6b2",
   "metadata": {
    "id": "vN6yDPolm6b2"
   },
   "source": [
    "## Google Colab에서 데이터 관리 및 최적 활용 전략\n",
    "\n",
    "### 드라이브 설정  \n",
    "- 코랩에서 데이터에 접근하는 방법에는 크게 두 가지가 있습니다.\n",
    "  - 1. 구글 드라이브 연동 : 자신의 Google Drive를 코랩에 연결하여 드라이브 안의 데이터에 접근합니다.   \n",
    "  - 2. 코랩의 세션 드라이브 업로드 : 코랩의 임시 저장 공간에 데이터를 업로드하여 사용합니다.\n",
    "\n",
    "- 각각의 방법은 장단점을 가지고 있습니다.\n",
    "- 구글 드라이브 연동의 장점은 드라이브에 데이터가 미리 준비되어 있으면 즉시 사용할 수 있다는 것이며, 데이터가 지속적으로 보존됩니다. 단점은 이미지 데이터와 같이 용량이 큰 데이터를 다룰 때, 로딩 속도가 매우 느리다는 단점이 있습니다.  \n",
    "- 코랩의 세션 드라이브에 업로드하는 방법의 장점은 드라이브 연동에 비해 로딩 속도를 매우 빠르게 사용할 수 있다는 것입니다. 하지만 이 방법의 단점은 코랩 런타임이 초기화될 때마다 데이터가 사라지고, 다른 ipynb에서 접근이 안된다는 단점이 존재합니다.\n",
    "\n",
    "- 따라서 이미지 데이터와 같이 대용량의 학습 데이터는 학습 직전에 임시 경로에 업로드하여 사용하고, 그 외 필요한 파일들은 구글 드라이브에서 직접 불러오는 것이 좋습니다. 또한 학습된 모델 파일처럼 저장이 필요한 자료는 보존을 위해 반드시 구글 드라이브에 저장합니다. 이렇게 하면 데이터 사용의 효율성과 접근성을 극대화할 수 있습니다."
   ]
  },
  {
   "cell_type": "markdown",
   "id": "42558bba",
   "metadata": {
    "id": "42558bba"
   },
   "source": [
    "## 데이터셋 로드"
   ]
  },
  {
   "cell_type": "code",
   "execution_count": null,
   "id": "2rqMZEhpLYf7",
   "metadata": {
    "colab": {
     "base_uri": "https://localhost:8080/",
     "height": 35
    },
    "executionInfo": {
     "elapsed": 7,
     "status": "ok",
     "timestamp": 1731934704065,
     "user": {
      "displayName": "김민수",
      "userId": "14499279899039145671"
     },
     "user_tz": -540
    },
    "id": "2rqMZEhpLYf7",
    "outputId": "5162693e-6b3f-4d45-8251-bd4954ef264f"
   },
   "outputs": [
    {
     "data": {
      "application/vnd.google.colaboratory.intrinsic+json": {
       "type": "string"
      },
      "text/plain": [
       "'/content'"
      ]
     },
     "execution_count": 4,
     "metadata": {},
     "output_type": "execute_result"
    }
   ],
   "source": [
    "# 작업 환경의 현재 경로를 확인합니다.\n",
    "os.getcwd()"
   ]
  },
  {
   "cell_type": "markdown",
   "id": "i05EQPE-DlAf",
   "metadata": {
    "id": "i05EQPE-DlAf"
   },
   "source": [
    "## 코랩의 세션 드라이브에 데이터 업로드"
   ]
  },
  {
   "cell_type": "code",
   "execution_count": null,
   "id": "cEYFIW88IHQU",
   "metadata": {
    "colab": {
     "base_uri": "https://localhost:8080/"
    },
    "executionInfo": {
     "elapsed": 5063,
     "status": "ok",
     "timestamp": 1731934736898,
     "user": {
      "displayName": "김민수",
      "userId": "14499279899039145671"
     },
     "user_tz": -540
    },
    "id": "cEYFIW88IHQU",
    "outputId": "47148934-c465-4f6f-a231-8dc11db79088"
   },
   "outputs": [
    {
     "name": "stderr",
     "output_type": "stream",
     "text": [
      "Downloading...\n",
      "From (original): https://drive.google.com/uc?id=1U7vCDZ4X9ElceQvBllL8ccGHXHjc1qTw\n",
      "From (redirected): https://drive.google.com/uc?id=1U7vCDZ4X9ElceQvBllL8ccGHXHjc1qTw&confirm=t&uuid=213ebd5e-b908-4884-a0fc-fcc4cf26a37d\n",
      "To: /content/OCR_ResNet18_dataset.zip\n",
      "100%|██████████| 82.9M/82.9M [00:00<00:00, 171MB/s]\n"
     ]
    },
    {
     "name": "stdout",
     "output_type": "stream",
     "text": [
      "파일 다운로드가 완료되었습니다: OCR_ResNet18_dataset.zip\n"
     ]
    }
   ],
   "source": [
    "import gdown\n",
    "\n",
    "# Google Drive 파일 ID와 URL 설정\n",
    "file_id = \"1U7vCDZ4X9ElceQvBllL8ccGHXHjc1qTw\"\n",
    "url = f\"https://drive.google.com/uc?id={file_id}\"\n",
    "\n",
    "# 다운로드할 파일 이름 설정\n",
    "output = \"OCR_ResNet18_dataset.zip\"\n",
    "\n",
    "# gdown을 사용하여 파일 다운로드\n",
    "gdown.download(url, output, quiet=False)\n",
    "\n",
    "print(f\"파일 다운로드가 완료되었습니다: {output}\")"
   ]
  },
  {
   "cell_type": "code",
   "execution_count": null,
   "id": "rN2hdh34ILZY",
   "metadata": {
    "id": "rN2hdh34ILZY"
   },
   "outputs": [],
   "source": [
    "# unzip 명령어를 통해 압축 파일을 해제해 줍니다.\n",
    "!unzip -qq OCR_ResNet18_dataset.zip"
   ]
  },
  {
   "cell_type": "code",
   "execution_count": null,
   "id": "dc4db202",
   "metadata": {
    "id": "dc4db202"
   },
   "outputs": [],
   "source": [
    "# 코랩 드라이브에서 대량의 이미지 파일을 로드할 경우 매우 시간이 오래 걸립니다.\n",
    "# 따라서 사용할 이미지는 drive 경로(/content/drive)가 아닌 코랩 세션 드라이브(/content/drive 이외의 경로)의 경로에 데이터를 업로드해줍니다.\n",
    "image_path = \"./dataset/digit_data\"\n",
    "asset_path = \"./assets\""
   ]
  },
  {
   "cell_type": "code",
   "execution_count": null,
   "id": "3cea08a5",
   "metadata": {
    "colab": {
     "base_uri": "https://localhost:8080/",
     "height": 424
    },
    "executionInfo": {
     "elapsed": 335,
     "status": "ok",
     "timestamp": 1731934782121,
     "user": {
      "displayName": "김민수",
      "userId": "14499279899039145671"
     },
     "user_tz": -540
    },
    "id": "3cea08a5",
    "outputId": "180a4bff-d885-4bc6-cd3e-b29b6b729f8f"
   },
   "outputs": [
    {
     "data": {
      "application/vnd.google.colaboratory.intrinsic+json": {
       "summary": "{\n  \"name\": \"origin_train_df\",\n  \"rows\": 21789,\n  \"fields\": [\n    {\n      \"column\": \"path\",\n      \"properties\": {\n        \"dtype\": \"string\",\n        \"num_unique_values\": 21789,\n        \"samples\": [\n          \"./dataset/digit_data/8/00747_1.jpg\",\n          \"./dataset/digit_data/6/00565_5.jpg\",\n          \"./dataset/digit_data/8/02041_5.jpg\"\n        ],\n        \"semantic_type\": \"\",\n        \"description\": \"\"\n      }\n    },\n    {\n      \"column\": \"label\",\n      \"properties\": {\n        \"dtype\": \"number\",\n        \"std\": 2,\n        \"min\": 0,\n        \"max\": 9,\n        \"num_unique_values\": 10,\n        \"samples\": [\n          8,\n          1,\n          5\n        ],\n        \"semantic_type\": \"\",\n        \"description\": \"\"\n      }\n    }\n  ]\n}",
       "type": "dataframe",
       "variable_name": "origin_train_df"
      },
      "text/html": [
       "\n",
       "  <div id=\"df-026c09f7-7fe4-4ab9-83b6-45094687617d\" class=\"colab-df-container\">\n",
       "    <div>\n",
       "<style scoped>\n",
       "    .dataframe tbody tr th:only-of-type {\n",
       "        vertical-align: middle;\n",
       "    }\n",
       "\n",
       "    .dataframe tbody tr th {\n",
       "        vertical-align: top;\n",
       "    }\n",
       "\n",
       "    .dataframe thead th {\n",
       "        text-align: right;\n",
       "    }\n",
       "</style>\n",
       "<table border=\"1\" class=\"dataframe\">\n",
       "  <thead>\n",
       "    <tr style=\"text-align: right;\">\n",
       "      <th></th>\n",
       "      <th>path</th>\n",
       "      <th>label</th>\n",
       "    </tr>\n",
       "  </thead>\n",
       "  <tbody>\n",
       "    <tr>\n",
       "      <th>0</th>\n",
       "      <td>./dataset/digit_data/0/00001_3.jpg</td>\n",
       "      <td>0</td>\n",
       "    </tr>\n",
       "    <tr>\n",
       "      <th>1</th>\n",
       "      <td>./dataset/digit_data/0/00001_7.jpg</td>\n",
       "      <td>0</td>\n",
       "    </tr>\n",
       "    <tr>\n",
       "      <th>2</th>\n",
       "      <td>./dataset/digit_data/0/00002_3.jpg</td>\n",
       "      <td>0</td>\n",
       "    </tr>\n",
       "    <tr>\n",
       "      <th>3</th>\n",
       "      <td>./dataset/digit_data/0/00003_3.jpg</td>\n",
       "      <td>0</td>\n",
       "    </tr>\n",
       "    <tr>\n",
       "      <th>4</th>\n",
       "      <td>./dataset/digit_data/0/00003_7.jpg</td>\n",
       "      <td>0</td>\n",
       "    </tr>\n",
       "    <tr>\n",
       "      <th>...</th>\n",
       "      <td>...</td>\n",
       "      <td>...</td>\n",
       "    </tr>\n",
       "    <tr>\n",
       "      <th>21784</th>\n",
       "      <td>./dataset/digit_data/9/03817_2.jpg</td>\n",
       "      <td>9</td>\n",
       "    </tr>\n",
       "    <tr>\n",
       "      <th>21785</th>\n",
       "      <td>./dataset/digit_data/9/03817_5.jpg</td>\n",
       "      <td>9</td>\n",
       "    </tr>\n",
       "    <tr>\n",
       "      <th>21786</th>\n",
       "      <td>./dataset/digit_data/9/03857_1.jpg</td>\n",
       "      <td>9</td>\n",
       "    </tr>\n",
       "    <tr>\n",
       "      <th>21787</th>\n",
       "      <td>./dataset/digit_data/9/03857_5.jpg</td>\n",
       "      <td>9</td>\n",
       "    </tr>\n",
       "    <tr>\n",
       "      <th>21788</th>\n",
       "      <td>./dataset/digit_data/9/03896_2.jpg</td>\n",
       "      <td>9</td>\n",
       "    </tr>\n",
       "  </tbody>\n",
       "</table>\n",
       "<p>21789 rows × 2 columns</p>\n",
       "</div>\n",
       "    <div class=\"colab-df-buttons\">\n",
       "\n",
       "  <div class=\"colab-df-container\">\n",
       "    <button class=\"colab-df-convert\" onclick=\"convertToInteractive('df-026c09f7-7fe4-4ab9-83b6-45094687617d')\"\n",
       "            title=\"Convert this dataframe to an interactive table.\"\n",
       "            style=\"display:none;\">\n",
       "\n",
       "  <svg xmlns=\"http://www.w3.org/2000/svg\" height=\"24px\" viewBox=\"0 -960 960 960\">\n",
       "    <path d=\"M120-120v-720h720v720H120Zm60-500h600v-160H180v160Zm220 220h160v-160H400v160Zm0 220h160v-160H400v160ZM180-400h160v-160H180v160Zm440 0h160v-160H620v160ZM180-180h160v-160H180v160Zm440 0h160v-160H620v160Z\"/>\n",
       "  </svg>\n",
       "    </button>\n",
       "\n",
       "  <style>\n",
       "    .colab-df-container {\n",
       "      display:flex;\n",
       "      gap: 12px;\n",
       "    }\n",
       "\n",
       "    .colab-df-convert {\n",
       "      background-color: #E8F0FE;\n",
       "      border: none;\n",
       "      border-radius: 50%;\n",
       "      cursor: pointer;\n",
       "      display: none;\n",
       "      fill: #1967D2;\n",
       "      height: 32px;\n",
       "      padding: 0 0 0 0;\n",
       "      width: 32px;\n",
       "    }\n",
       "\n",
       "    .colab-df-convert:hover {\n",
       "      background-color: #E2EBFA;\n",
       "      box-shadow: 0px 1px 2px rgba(60, 64, 67, 0.3), 0px 1px 3px 1px rgba(60, 64, 67, 0.15);\n",
       "      fill: #174EA6;\n",
       "    }\n",
       "\n",
       "    .colab-df-buttons div {\n",
       "      margin-bottom: 4px;\n",
       "    }\n",
       "\n",
       "    [theme=dark] .colab-df-convert {\n",
       "      background-color: #3B4455;\n",
       "      fill: #D2E3FC;\n",
       "    }\n",
       "\n",
       "    [theme=dark] .colab-df-convert:hover {\n",
       "      background-color: #434B5C;\n",
       "      box-shadow: 0px 1px 3px 1px rgba(0, 0, 0, 0.15);\n",
       "      filter: drop-shadow(0px 1px 2px rgba(0, 0, 0, 0.3));\n",
       "      fill: #FFFFFF;\n",
       "    }\n",
       "  </style>\n",
       "\n",
       "    <script>\n",
       "      const buttonEl =\n",
       "        document.querySelector('#df-026c09f7-7fe4-4ab9-83b6-45094687617d button.colab-df-convert');\n",
       "      buttonEl.style.display =\n",
       "        google.colab.kernel.accessAllowed ? 'block' : 'none';\n",
       "\n",
       "      async function convertToInteractive(key) {\n",
       "        const element = document.querySelector('#df-026c09f7-7fe4-4ab9-83b6-45094687617d');\n",
       "        const dataTable =\n",
       "          await google.colab.kernel.invokeFunction('convertToInteractive',\n",
       "                                                    [key], {});\n",
       "        if (!dataTable) return;\n",
       "\n",
       "        const docLinkHtml = 'Like what you see? Visit the ' +\n",
       "          '<a target=\"_blank\" href=https://colab.research.google.com/notebooks/data_table.ipynb>data table notebook</a>'\n",
       "          + ' to learn more about interactive tables.';\n",
       "        element.innerHTML = '';\n",
       "        dataTable['output_type'] = 'display_data';\n",
       "        await google.colab.output.renderOutput(dataTable, element);\n",
       "        const docLink = document.createElement('div');\n",
       "        docLink.innerHTML = docLinkHtml;\n",
       "        element.appendChild(docLink);\n",
       "      }\n",
       "    </script>\n",
       "  </div>\n",
       "\n",
       "\n",
       "<div id=\"df-437345b2-e060-4f5e-9ed6-a8c290e65eec\">\n",
       "  <button class=\"colab-df-quickchart\" onclick=\"quickchart('df-437345b2-e060-4f5e-9ed6-a8c290e65eec')\"\n",
       "            title=\"Suggest charts\"\n",
       "            style=\"display:none;\">\n",
       "\n",
       "<svg xmlns=\"http://www.w3.org/2000/svg\" height=\"24px\"viewBox=\"0 0 24 24\"\n",
       "     width=\"24px\">\n",
       "    <g>\n",
       "        <path d=\"M19 3H5c-1.1 0-2 .9-2 2v14c0 1.1.9 2 2 2h14c1.1 0 2-.9 2-2V5c0-1.1-.9-2-2-2zM9 17H7v-7h2v7zm4 0h-2V7h2v10zm4 0h-2v-4h2v4z\"/>\n",
       "    </g>\n",
       "</svg>\n",
       "  </button>\n",
       "\n",
       "<style>\n",
       "  .colab-df-quickchart {\n",
       "      --bg-color: #E8F0FE;\n",
       "      --fill-color: #1967D2;\n",
       "      --hover-bg-color: #E2EBFA;\n",
       "      --hover-fill-color: #174EA6;\n",
       "      --disabled-fill-color: #AAA;\n",
       "      --disabled-bg-color: #DDD;\n",
       "  }\n",
       "\n",
       "  [theme=dark] .colab-df-quickchart {\n",
       "      --bg-color: #3B4455;\n",
       "      --fill-color: #D2E3FC;\n",
       "      --hover-bg-color: #434B5C;\n",
       "      --hover-fill-color: #FFFFFF;\n",
       "      --disabled-bg-color: #3B4455;\n",
       "      --disabled-fill-color: #666;\n",
       "  }\n",
       "\n",
       "  .colab-df-quickchart {\n",
       "    background-color: var(--bg-color);\n",
       "    border: none;\n",
       "    border-radius: 50%;\n",
       "    cursor: pointer;\n",
       "    display: none;\n",
       "    fill: var(--fill-color);\n",
       "    height: 32px;\n",
       "    padding: 0;\n",
       "    width: 32px;\n",
       "  }\n",
       "\n",
       "  .colab-df-quickchart:hover {\n",
       "    background-color: var(--hover-bg-color);\n",
       "    box-shadow: 0 1px 2px rgba(60, 64, 67, 0.3), 0 1px 3px 1px rgba(60, 64, 67, 0.15);\n",
       "    fill: var(--button-hover-fill-color);\n",
       "  }\n",
       "\n",
       "  .colab-df-quickchart-complete:disabled,\n",
       "  .colab-df-quickchart-complete:disabled:hover {\n",
       "    background-color: var(--disabled-bg-color);\n",
       "    fill: var(--disabled-fill-color);\n",
       "    box-shadow: none;\n",
       "  }\n",
       "\n",
       "  .colab-df-spinner {\n",
       "    border: 2px solid var(--fill-color);\n",
       "    border-color: transparent;\n",
       "    border-bottom-color: var(--fill-color);\n",
       "    animation:\n",
       "      spin 1s steps(1) infinite;\n",
       "  }\n",
       "\n",
       "  @keyframes spin {\n",
       "    0% {\n",
       "      border-color: transparent;\n",
       "      border-bottom-color: var(--fill-color);\n",
       "      border-left-color: var(--fill-color);\n",
       "    }\n",
       "    20% {\n",
       "      border-color: transparent;\n",
       "      border-left-color: var(--fill-color);\n",
       "      border-top-color: var(--fill-color);\n",
       "    }\n",
       "    30% {\n",
       "      border-color: transparent;\n",
       "      border-left-color: var(--fill-color);\n",
       "      border-top-color: var(--fill-color);\n",
       "      border-right-color: var(--fill-color);\n",
       "    }\n",
       "    40% {\n",
       "      border-color: transparent;\n",
       "      border-right-color: var(--fill-color);\n",
       "      border-top-color: var(--fill-color);\n",
       "    }\n",
       "    60% {\n",
       "      border-color: transparent;\n",
       "      border-right-color: var(--fill-color);\n",
       "    }\n",
       "    80% {\n",
       "      border-color: transparent;\n",
       "      border-right-color: var(--fill-color);\n",
       "      border-bottom-color: var(--fill-color);\n",
       "    }\n",
       "    90% {\n",
       "      border-color: transparent;\n",
       "      border-bottom-color: var(--fill-color);\n",
       "    }\n",
       "  }\n",
       "</style>\n",
       "\n",
       "  <script>\n",
       "    async function quickchart(key) {\n",
       "      const quickchartButtonEl =\n",
       "        document.querySelector('#' + key + ' button');\n",
       "      quickchartButtonEl.disabled = true;  // To prevent multiple clicks.\n",
       "      quickchartButtonEl.classList.add('colab-df-spinner');\n",
       "      try {\n",
       "        const charts = await google.colab.kernel.invokeFunction(\n",
       "            'suggestCharts', [key], {});\n",
       "      } catch (error) {\n",
       "        console.error('Error during call to suggestCharts:', error);\n",
       "      }\n",
       "      quickchartButtonEl.classList.remove('colab-df-spinner');\n",
       "      quickchartButtonEl.classList.add('colab-df-quickchart-complete');\n",
       "    }\n",
       "    (() => {\n",
       "      let quickchartButtonEl =\n",
       "        document.querySelector('#df-437345b2-e060-4f5e-9ed6-a8c290e65eec button');\n",
       "      quickchartButtonEl.style.display =\n",
       "        google.colab.kernel.accessAllowed ? 'block' : 'none';\n",
       "    })();\n",
       "  </script>\n",
       "</div>\n",
       "\n",
       "  <div id=\"id_e673472e-c623-48be-b30e-f369f76087ba\">\n",
       "    <style>\n",
       "      .colab-df-generate {\n",
       "        background-color: #E8F0FE;\n",
       "        border: none;\n",
       "        border-radius: 50%;\n",
       "        cursor: pointer;\n",
       "        display: none;\n",
       "        fill: #1967D2;\n",
       "        height: 32px;\n",
       "        padding: 0 0 0 0;\n",
       "        width: 32px;\n",
       "      }\n",
       "\n",
       "      .colab-df-generate:hover {\n",
       "        background-color: #E2EBFA;\n",
       "        box-shadow: 0px 1px 2px rgba(60, 64, 67, 0.3), 0px 1px 3px 1px rgba(60, 64, 67, 0.15);\n",
       "        fill: #174EA6;\n",
       "      }\n",
       "\n",
       "      [theme=dark] .colab-df-generate {\n",
       "        background-color: #3B4455;\n",
       "        fill: #D2E3FC;\n",
       "      }\n",
       "\n",
       "      [theme=dark] .colab-df-generate:hover {\n",
       "        background-color: #434B5C;\n",
       "        box-shadow: 0px 1px 3px 1px rgba(0, 0, 0, 0.15);\n",
       "        filter: drop-shadow(0px 1px 2px rgba(0, 0, 0, 0.3));\n",
       "        fill: #FFFFFF;\n",
       "      }\n",
       "    </style>\n",
       "    <button class=\"colab-df-generate\" onclick=\"generateWithVariable('origin_train_df')\"\n",
       "            title=\"Generate code using this dataframe.\"\n",
       "            style=\"display:none;\">\n",
       "\n",
       "  <svg xmlns=\"http://www.w3.org/2000/svg\" height=\"24px\"viewBox=\"0 0 24 24\"\n",
       "       width=\"24px\">\n",
       "    <path d=\"M7,19H8.4L18.45,9,17,7.55,7,17.6ZM5,21V16.75L18.45,3.32a2,2,0,0,1,2.83,0l1.4,1.43a1.91,1.91,0,0,1,.58,1.4,1.91,1.91,0,0,1-.58,1.4L9.25,21ZM18.45,9,17,7.55Zm-12,3A5.31,5.31,0,0,0,4.9,8.1,5.31,5.31,0,0,0,1,6.5,5.31,5.31,0,0,0,4.9,4.9,5.31,5.31,0,0,0,6.5,1,5.31,5.31,0,0,0,8.1,4.9,5.31,5.31,0,0,0,12,6.5,5.46,5.46,0,0,0,6.5,12Z\"/>\n",
       "  </svg>\n",
       "    </button>\n",
       "    <script>\n",
       "      (() => {\n",
       "      const buttonEl =\n",
       "        document.querySelector('#id_e673472e-c623-48be-b30e-f369f76087ba button.colab-df-generate');\n",
       "      buttonEl.style.display =\n",
       "        google.colab.kernel.accessAllowed ? 'block' : 'none';\n",
       "\n",
       "      buttonEl.onclick = () => {\n",
       "        google.colab.notebook.generateWithVariable('origin_train_df');\n",
       "      }\n",
       "      })();\n",
       "    </script>\n",
       "  </div>\n",
       "\n",
       "    </div>\n",
       "  </div>\n"
      ],
      "text/plain": [
       "                                     path  label\n",
       "0      ./dataset/digit_data/0/00001_3.jpg      0\n",
       "1      ./dataset/digit_data/0/00001_7.jpg      0\n",
       "2      ./dataset/digit_data/0/00002_3.jpg      0\n",
       "3      ./dataset/digit_data/0/00003_3.jpg      0\n",
       "4      ./dataset/digit_data/0/00003_7.jpg      0\n",
       "...                                   ...    ...\n",
       "21784  ./dataset/digit_data/9/03817_2.jpg      9\n",
       "21785  ./dataset/digit_data/9/03817_5.jpg      9\n",
       "21786  ./dataset/digit_data/9/03857_1.jpg      9\n",
       "21787  ./dataset/digit_data/9/03857_5.jpg      9\n",
       "21788  ./dataset/digit_data/9/03896_2.jpg      9\n",
       "\n",
       "[21789 rows x 2 columns]"
      ]
     },
     "execution_count": 9,
     "metadata": {},
     "output_type": "execute_result"
    }
   ],
   "source": [
    "# 학습 데이터셋\n",
    "origin_train_df = pd.read_csv(f\"{image_path}/train_data.txt\", names=[\"path\"])\n",
    "origin_train_df[\"label\"] = origin_train_df[\"path\"].str[0].astype(int)\n",
    "origin_train_df[\"path\"] = image_path + \"/\" + origin_train_df[\"path\"]\n",
    "origin_train_df"
   ]
  },
  {
   "cell_type": "code",
   "execution_count": null,
   "id": "576e46f6",
   "metadata": {
    "colab": {
     "base_uri": "https://localhost:8080/",
     "height": 424
    },
    "executionInfo": {
     "elapsed": 290,
     "status": "ok",
     "timestamp": 1731934787175,
     "user": {
      "displayName": "김민수",
      "userId": "14499279899039145671"
     },
     "user_tz": -540
    },
    "id": "576e46f6",
    "outputId": "a885ee62-7f2d-408b-b575-e29cb995dac4"
   },
   "outputs": [
    {
     "data": {
      "application/vnd.google.colaboratory.intrinsic+json": {
       "summary": "{\n  \"name\": \"test_df\",\n  \"rows\": 5448,\n  \"fields\": [\n    {\n      \"column\": \"path\",\n      \"properties\": {\n        \"dtype\": \"string\",\n        \"num_unique_values\": 5448,\n        \"samples\": [\n          \"./dataset/digit_data/6/01487_0.jpg\",\n          \"./dataset/digit_data/8/03512_5.jpg\",\n          \"./dataset/digit_data/8/00369_1.jpg\"\n        ],\n        \"semantic_type\": \"\",\n        \"description\": \"\"\n      }\n    },\n    {\n      \"column\": \"label\",\n      \"properties\": {\n        \"dtype\": \"number\",\n        \"std\": 2,\n        \"min\": 0,\n        \"max\": 9,\n        \"num_unique_values\": 10,\n        \"samples\": [\n          8,\n          1,\n          5\n        ],\n        \"semantic_type\": \"\",\n        \"description\": \"\"\n      }\n    }\n  ]\n}",
       "type": "dataframe",
       "variable_name": "test_df"
      },
      "text/html": [
       "\n",
       "  <div id=\"df-339d54cc-89a9-4f1c-9c92-ae4e6e7ad9cc\" class=\"colab-df-container\">\n",
       "    <div>\n",
       "<style scoped>\n",
       "    .dataframe tbody tr th:only-of-type {\n",
       "        vertical-align: middle;\n",
       "    }\n",
       "\n",
       "    .dataframe tbody tr th {\n",
       "        vertical-align: top;\n",
       "    }\n",
       "\n",
       "    .dataframe thead th {\n",
       "        text-align: right;\n",
       "    }\n",
       "</style>\n",
       "<table border=\"1\" class=\"dataframe\">\n",
       "  <thead>\n",
       "    <tr style=\"text-align: right;\">\n",
       "      <th></th>\n",
       "      <th>path</th>\n",
       "      <th>label</th>\n",
       "    </tr>\n",
       "  </thead>\n",
       "  <tbody>\n",
       "    <tr>\n",
       "      <th>0</th>\n",
       "      <td>./dataset/digit_data/0/00004_1.jpg</td>\n",
       "      <td>0</td>\n",
       "    </tr>\n",
       "    <tr>\n",
       "      <th>1</th>\n",
       "      <td>./dataset/digit_data/0/00006_3.jpg</td>\n",
       "      <td>0</td>\n",
       "    </tr>\n",
       "    <tr>\n",
       "      <th>2</th>\n",
       "      <td>./dataset/digit_data/0/00007_3.jpg</td>\n",
       "      <td>0</td>\n",
       "    </tr>\n",
       "    <tr>\n",
       "      <th>3</th>\n",
       "      <td>./dataset/digit_data/0/00009_1.jpg</td>\n",
       "      <td>0</td>\n",
       "    </tr>\n",
       "    <tr>\n",
       "      <th>4</th>\n",
       "      <td>./dataset/digit_data/0/00011_7.jpg</td>\n",
       "      <td>0</td>\n",
       "    </tr>\n",
       "    <tr>\n",
       "      <th>...</th>\n",
       "      <td>...</td>\n",
       "      <td>...</td>\n",
       "    </tr>\n",
       "    <tr>\n",
       "      <th>5443</th>\n",
       "      <td>./dataset/digit_data/9/03786_1.jpg</td>\n",
       "      <td>9</td>\n",
       "    </tr>\n",
       "    <tr>\n",
       "      <th>5444</th>\n",
       "      <td>./dataset/digit_data/9/03814_1.jpg</td>\n",
       "      <td>9</td>\n",
       "    </tr>\n",
       "    <tr>\n",
       "      <th>5445</th>\n",
       "      <td>./dataset/digit_data/9/03817_1.jpg</td>\n",
       "      <td>9</td>\n",
       "    </tr>\n",
       "    <tr>\n",
       "      <th>5446</th>\n",
       "      <td>./dataset/digit_data/9/03817_6.jpg</td>\n",
       "      <td>9</td>\n",
       "    </tr>\n",
       "    <tr>\n",
       "      <th>5447</th>\n",
       "      <td>./dataset/digit_data/9/03896_6.jpg</td>\n",
       "      <td>9</td>\n",
       "    </tr>\n",
       "  </tbody>\n",
       "</table>\n",
       "<p>5448 rows × 2 columns</p>\n",
       "</div>\n",
       "    <div class=\"colab-df-buttons\">\n",
       "\n",
       "  <div class=\"colab-df-container\">\n",
       "    <button class=\"colab-df-convert\" onclick=\"convertToInteractive('df-339d54cc-89a9-4f1c-9c92-ae4e6e7ad9cc')\"\n",
       "            title=\"Convert this dataframe to an interactive table.\"\n",
       "            style=\"display:none;\">\n",
       "\n",
       "  <svg xmlns=\"http://www.w3.org/2000/svg\" height=\"24px\" viewBox=\"0 -960 960 960\">\n",
       "    <path d=\"M120-120v-720h720v720H120Zm60-500h600v-160H180v160Zm220 220h160v-160H400v160Zm0 220h160v-160H400v160ZM180-400h160v-160H180v160Zm440 0h160v-160H620v160ZM180-180h160v-160H180v160Zm440 0h160v-160H620v160Z\"/>\n",
       "  </svg>\n",
       "    </button>\n",
       "\n",
       "  <style>\n",
       "    .colab-df-container {\n",
       "      display:flex;\n",
       "      gap: 12px;\n",
       "    }\n",
       "\n",
       "    .colab-df-convert {\n",
       "      background-color: #E8F0FE;\n",
       "      border: none;\n",
       "      border-radius: 50%;\n",
       "      cursor: pointer;\n",
       "      display: none;\n",
       "      fill: #1967D2;\n",
       "      height: 32px;\n",
       "      padding: 0 0 0 0;\n",
       "      width: 32px;\n",
       "    }\n",
       "\n",
       "    .colab-df-convert:hover {\n",
       "      background-color: #E2EBFA;\n",
       "      box-shadow: 0px 1px 2px rgba(60, 64, 67, 0.3), 0px 1px 3px 1px rgba(60, 64, 67, 0.15);\n",
       "      fill: #174EA6;\n",
       "    }\n",
       "\n",
       "    .colab-df-buttons div {\n",
       "      margin-bottom: 4px;\n",
       "    }\n",
       "\n",
       "    [theme=dark] .colab-df-convert {\n",
       "      background-color: #3B4455;\n",
       "      fill: #D2E3FC;\n",
       "    }\n",
       "\n",
       "    [theme=dark] .colab-df-convert:hover {\n",
       "      background-color: #434B5C;\n",
       "      box-shadow: 0px 1px 3px 1px rgba(0, 0, 0, 0.15);\n",
       "      filter: drop-shadow(0px 1px 2px rgba(0, 0, 0, 0.3));\n",
       "      fill: #FFFFFF;\n",
       "    }\n",
       "  </style>\n",
       "\n",
       "    <script>\n",
       "      const buttonEl =\n",
       "        document.querySelector('#df-339d54cc-89a9-4f1c-9c92-ae4e6e7ad9cc button.colab-df-convert');\n",
       "      buttonEl.style.display =\n",
       "        google.colab.kernel.accessAllowed ? 'block' : 'none';\n",
       "\n",
       "      async function convertToInteractive(key) {\n",
       "        const element = document.querySelector('#df-339d54cc-89a9-4f1c-9c92-ae4e6e7ad9cc');\n",
       "        const dataTable =\n",
       "          await google.colab.kernel.invokeFunction('convertToInteractive',\n",
       "                                                    [key], {});\n",
       "        if (!dataTable) return;\n",
       "\n",
       "        const docLinkHtml = 'Like what you see? Visit the ' +\n",
       "          '<a target=\"_blank\" href=https://colab.research.google.com/notebooks/data_table.ipynb>data table notebook</a>'\n",
       "          + ' to learn more about interactive tables.';\n",
       "        element.innerHTML = '';\n",
       "        dataTable['output_type'] = 'display_data';\n",
       "        await google.colab.output.renderOutput(dataTable, element);\n",
       "        const docLink = document.createElement('div');\n",
       "        docLink.innerHTML = docLinkHtml;\n",
       "        element.appendChild(docLink);\n",
       "      }\n",
       "    </script>\n",
       "  </div>\n",
       "\n",
       "\n",
       "<div id=\"df-bdfb61ff-0c2d-4db5-8064-529980f4b047\">\n",
       "  <button class=\"colab-df-quickchart\" onclick=\"quickchart('df-bdfb61ff-0c2d-4db5-8064-529980f4b047')\"\n",
       "            title=\"Suggest charts\"\n",
       "            style=\"display:none;\">\n",
       "\n",
       "<svg xmlns=\"http://www.w3.org/2000/svg\" height=\"24px\"viewBox=\"0 0 24 24\"\n",
       "     width=\"24px\">\n",
       "    <g>\n",
       "        <path d=\"M19 3H5c-1.1 0-2 .9-2 2v14c0 1.1.9 2 2 2h14c1.1 0 2-.9 2-2V5c0-1.1-.9-2-2-2zM9 17H7v-7h2v7zm4 0h-2V7h2v10zm4 0h-2v-4h2v4z\"/>\n",
       "    </g>\n",
       "</svg>\n",
       "  </button>\n",
       "\n",
       "<style>\n",
       "  .colab-df-quickchart {\n",
       "      --bg-color: #E8F0FE;\n",
       "      --fill-color: #1967D2;\n",
       "      --hover-bg-color: #E2EBFA;\n",
       "      --hover-fill-color: #174EA6;\n",
       "      --disabled-fill-color: #AAA;\n",
       "      --disabled-bg-color: #DDD;\n",
       "  }\n",
       "\n",
       "  [theme=dark] .colab-df-quickchart {\n",
       "      --bg-color: #3B4455;\n",
       "      --fill-color: #D2E3FC;\n",
       "      --hover-bg-color: #434B5C;\n",
       "      --hover-fill-color: #FFFFFF;\n",
       "      --disabled-bg-color: #3B4455;\n",
       "      --disabled-fill-color: #666;\n",
       "  }\n",
       "\n",
       "  .colab-df-quickchart {\n",
       "    background-color: var(--bg-color);\n",
       "    border: none;\n",
       "    border-radius: 50%;\n",
       "    cursor: pointer;\n",
       "    display: none;\n",
       "    fill: var(--fill-color);\n",
       "    height: 32px;\n",
       "    padding: 0;\n",
       "    width: 32px;\n",
       "  }\n",
       "\n",
       "  .colab-df-quickchart:hover {\n",
       "    background-color: var(--hover-bg-color);\n",
       "    box-shadow: 0 1px 2px rgba(60, 64, 67, 0.3), 0 1px 3px 1px rgba(60, 64, 67, 0.15);\n",
       "    fill: var(--button-hover-fill-color);\n",
       "  }\n",
       "\n",
       "  .colab-df-quickchart-complete:disabled,\n",
       "  .colab-df-quickchart-complete:disabled:hover {\n",
       "    background-color: var(--disabled-bg-color);\n",
       "    fill: var(--disabled-fill-color);\n",
       "    box-shadow: none;\n",
       "  }\n",
       "\n",
       "  .colab-df-spinner {\n",
       "    border: 2px solid var(--fill-color);\n",
       "    border-color: transparent;\n",
       "    border-bottom-color: var(--fill-color);\n",
       "    animation:\n",
       "      spin 1s steps(1) infinite;\n",
       "  }\n",
       "\n",
       "  @keyframes spin {\n",
       "    0% {\n",
       "      border-color: transparent;\n",
       "      border-bottom-color: var(--fill-color);\n",
       "      border-left-color: var(--fill-color);\n",
       "    }\n",
       "    20% {\n",
       "      border-color: transparent;\n",
       "      border-left-color: var(--fill-color);\n",
       "      border-top-color: var(--fill-color);\n",
       "    }\n",
       "    30% {\n",
       "      border-color: transparent;\n",
       "      border-left-color: var(--fill-color);\n",
       "      border-top-color: var(--fill-color);\n",
       "      border-right-color: var(--fill-color);\n",
       "    }\n",
       "    40% {\n",
       "      border-color: transparent;\n",
       "      border-right-color: var(--fill-color);\n",
       "      border-top-color: var(--fill-color);\n",
       "    }\n",
       "    60% {\n",
       "      border-color: transparent;\n",
       "      border-right-color: var(--fill-color);\n",
       "    }\n",
       "    80% {\n",
       "      border-color: transparent;\n",
       "      border-right-color: var(--fill-color);\n",
       "      border-bottom-color: var(--fill-color);\n",
       "    }\n",
       "    90% {\n",
       "      border-color: transparent;\n",
       "      border-bottom-color: var(--fill-color);\n",
       "    }\n",
       "  }\n",
       "</style>\n",
       "\n",
       "  <script>\n",
       "    async function quickchart(key) {\n",
       "      const quickchartButtonEl =\n",
       "        document.querySelector('#' + key + ' button');\n",
       "      quickchartButtonEl.disabled = true;  // To prevent multiple clicks.\n",
       "      quickchartButtonEl.classList.add('colab-df-spinner');\n",
       "      try {\n",
       "        const charts = await google.colab.kernel.invokeFunction(\n",
       "            'suggestCharts', [key], {});\n",
       "      } catch (error) {\n",
       "        console.error('Error during call to suggestCharts:', error);\n",
       "      }\n",
       "      quickchartButtonEl.classList.remove('colab-df-spinner');\n",
       "      quickchartButtonEl.classList.add('colab-df-quickchart-complete');\n",
       "    }\n",
       "    (() => {\n",
       "      let quickchartButtonEl =\n",
       "        document.querySelector('#df-bdfb61ff-0c2d-4db5-8064-529980f4b047 button');\n",
       "      quickchartButtonEl.style.display =\n",
       "        google.colab.kernel.accessAllowed ? 'block' : 'none';\n",
       "    })();\n",
       "  </script>\n",
       "</div>\n",
       "\n",
       "  <div id=\"id_1f157980-1af8-4e2d-96b0-e6bd791a248b\">\n",
       "    <style>\n",
       "      .colab-df-generate {\n",
       "        background-color: #E8F0FE;\n",
       "        border: none;\n",
       "        border-radius: 50%;\n",
       "        cursor: pointer;\n",
       "        display: none;\n",
       "        fill: #1967D2;\n",
       "        height: 32px;\n",
       "        padding: 0 0 0 0;\n",
       "        width: 32px;\n",
       "      }\n",
       "\n",
       "      .colab-df-generate:hover {\n",
       "        background-color: #E2EBFA;\n",
       "        box-shadow: 0px 1px 2px rgba(60, 64, 67, 0.3), 0px 1px 3px 1px rgba(60, 64, 67, 0.15);\n",
       "        fill: #174EA6;\n",
       "      }\n",
       "\n",
       "      [theme=dark] .colab-df-generate {\n",
       "        background-color: #3B4455;\n",
       "        fill: #D2E3FC;\n",
       "      }\n",
       "\n",
       "      [theme=dark] .colab-df-generate:hover {\n",
       "        background-color: #434B5C;\n",
       "        box-shadow: 0px 1px 3px 1px rgba(0, 0, 0, 0.15);\n",
       "        filter: drop-shadow(0px 1px 2px rgba(0, 0, 0, 0.3));\n",
       "        fill: #FFFFFF;\n",
       "      }\n",
       "    </style>\n",
       "    <button class=\"colab-df-generate\" onclick=\"generateWithVariable('test_df')\"\n",
       "            title=\"Generate code using this dataframe.\"\n",
       "            style=\"display:none;\">\n",
       "\n",
       "  <svg xmlns=\"http://www.w3.org/2000/svg\" height=\"24px\"viewBox=\"0 0 24 24\"\n",
       "       width=\"24px\">\n",
       "    <path d=\"M7,19H8.4L18.45,9,17,7.55,7,17.6ZM5,21V16.75L18.45,3.32a2,2,0,0,1,2.83,0l1.4,1.43a1.91,1.91,0,0,1,.58,1.4,1.91,1.91,0,0,1-.58,1.4L9.25,21ZM18.45,9,17,7.55Zm-12,3A5.31,5.31,0,0,0,4.9,8.1,5.31,5.31,0,0,0,1,6.5,5.31,5.31,0,0,0,4.9,4.9,5.31,5.31,0,0,0,6.5,1,5.31,5.31,0,0,0,8.1,4.9,5.31,5.31,0,0,0,12,6.5,5.46,5.46,0,0,0,6.5,12Z\"/>\n",
       "  </svg>\n",
       "    </button>\n",
       "    <script>\n",
       "      (() => {\n",
       "      const buttonEl =\n",
       "        document.querySelector('#id_1f157980-1af8-4e2d-96b0-e6bd791a248b button.colab-df-generate');\n",
       "      buttonEl.style.display =\n",
       "        google.colab.kernel.accessAllowed ? 'block' : 'none';\n",
       "\n",
       "      buttonEl.onclick = () => {\n",
       "        google.colab.notebook.generateWithVariable('test_df');\n",
       "      }\n",
       "      })();\n",
       "    </script>\n",
       "  </div>\n",
       "\n",
       "    </div>\n",
       "  </div>\n"
      ],
      "text/plain": [
       "                                    path  label\n",
       "0     ./dataset/digit_data/0/00004_1.jpg      0\n",
       "1     ./dataset/digit_data/0/00006_3.jpg      0\n",
       "2     ./dataset/digit_data/0/00007_3.jpg      0\n",
       "3     ./dataset/digit_data/0/00009_1.jpg      0\n",
       "4     ./dataset/digit_data/0/00011_7.jpg      0\n",
       "...                                  ...    ...\n",
       "5443  ./dataset/digit_data/9/03786_1.jpg      9\n",
       "5444  ./dataset/digit_data/9/03814_1.jpg      9\n",
       "5445  ./dataset/digit_data/9/03817_1.jpg      9\n",
       "5446  ./dataset/digit_data/9/03817_6.jpg      9\n",
       "5447  ./dataset/digit_data/9/03896_6.jpg      9\n",
       "\n",
       "[5448 rows x 2 columns]"
      ]
     },
     "execution_count": 10,
     "metadata": {},
     "output_type": "execute_result"
    }
   ],
   "source": [
    "# 테스트 데이터셋 (valid_data.txt지만 미리 나눠진 test set으로 사용하도록 하겠음)\n",
    "test_df = pd.read_csv(f\"{image_path}/valid_data.txt\", names=[\"path\"])\n",
    "test_df[\"label\"] = test_df[\"path\"].str[0].astype(int)\n",
    "test_df[\"path\"] = image_path + \"/\" + test_df[\"path\"]\n",
    "test_df"
   ]
  },
  {
   "cell_type": "markdown",
   "id": "1715e7b0",
   "metadata": {
    "id": "1715e7b0"
   },
   "source": [
    "## Train/Valid/Test 데이터셋 분리\n",
    "\n",
    "kamp데이터는 train/valid 밖에 구분되어 있지 않지만\n",
    "\n",
    "저희는 보다 명확한 검토를 위해\n",
    "\n",
    "    train => train/valid\n",
    "\n",
    "    valid = > test\n",
    "    \n",
    "로 사용하도록 하겠습니다"
   ]
  },
  {
   "cell_type": "code",
   "execution_count": null,
   "id": "31abb953",
   "metadata": {
    "id": "31abb953"
   },
   "outputs": [],
   "source": [
    "# train 데이터셋을 8:2로 나눠서 valid를 하도록 하겠습니다\n",
    "train_df, valid_df = train_test_split(\n",
    "    origin_train_df,\n",
    "    test_size=0.2,\n",
    "    random_state=0,\n",
    "    shuffle=True,\n",
    "    stratify=origin_train_df[\"label\"],\n",
    ")"
   ]
  },
  {
   "cell_type": "markdown",
   "id": "784ee59e",
   "metadata": {
    "id": "784ee59e"
   },
   "source": [
    "\n",
    "## DataSet, DataLoader 생성\n",
    "PyTorch에서 torch.utils.data.Dataset 클래스를 사용하는 이유:\n",
    "1. 데이터 관리의 일관성\n",
    "Dataset 클래스를 사용하면 데이터를 일관된 방식으로 관리할 수 있습니다. 데이터 로드, 전처리, 샘플링을 위한 구조를 명확히 정의할 수 있어 코드 유지보수가 용이합니다. raw 데이터를 직접 사용하면 데이터를 불러오는 로직이 코드 곳곳에 흩어질 수 있습니다.\n",
    "Dataset 클래스는 데이터 관련 로직을 캡슐화하여 재사용성을 높이고 코드 가독성을 향상시킵니다.\n",
    "\n",
    "2. 효율적인 데이터 로드\n",
    "Dataset 클래스는 DataLoader와 함께 사용되어 배치 처리 및 병렬 데이터 로드를 지원합니다.raw 데이터를 직접 사용하면 배치 처리를 수동으로 구현해야 하며, 효율적이지 않을 수 있습니다.\n",
    "DataLoader는 Dataset에서 배치를 자동으로 생성하고, 멀티스레딩을 통해 데이터 로드 속도를 높입니다.\n",
    "\n",
    "3. 동적인 데이터 전처리\n",
    "Dataset 클래스의 핵심은 __getitem__과 __len__ 메서드를 커스터마이징할 수 있다는 점입니다. 데이터를 로드하는 동시에 필요한 전처리(예: 텍스트 토크나이징, 이미지 변환 등)를 수행할 수 있습니다.\n",
    "raw 데이터를 직접 사용하면 데이터 전처리를 별도의 단계에서 처리해야 하므로 유연성이 떨어집니다.\n",
    "\n",
    "4. 메모리 관리\n",
    "Dataset은 필요할 때 데이터를 로드하는 방식을 지원합니다(예: Lazy Loading).\n",
    "raw 데이터를 한꺼번에 메모리에 올리면 큰 데이터셋의 경우 메모리 부족 문제가 발생할 수 있습니다.\n",
    "Dataset 클래스는 데이터를 필요할 때만 로드하거나 스트리밍 방식으로 처리하여 메모리 사용량을 최소화할 수 있습니다.\n",
    "\n",
    "5. 확장성\n",
    "사용자가 직접 데이터 구조를 정의하고 커스터마이징할 수 있습니다.\n",
    "raw 데이터는 구조적으로 고정되어 있어 추가적인 기능(예: 샘플링, 데이터 증강 등)을 구현하기 어렵습니다.\n",
    "Dataset을 상속받아 자신만의 데이터셋 클래스를 만들어 다양한 데이터 소스와 처리 방법을 통합할 수 있습니다."
   ]
  },
  {
   "cell_type": "code",
   "execution_count": null,
   "id": "66444fcc",
   "metadata": {
    "id": "66444fcc"
   },
   "outputs": [],
   "source": [
    "# 사용자 정의 데이터셋 클래스 생성 (CustomDataset)\n",
    "class CustomDataset(Dataset):\n",
    "    def __init__(self, dataframe, transform=None):\n",
    "        # 데이터셋 초기화\n",
    "        # dataframe: 이미지 경로와 레이블이 포함된 데이터프레임\n",
    "        # transform: 이미지에 적용할 전처리(transform) 함수\n",
    "        self.dataframe = dataframe\n",
    "        self.transform = transform\n",
    "\n",
    "    def __len__(self):\n",
    "        # 데이터셋의 총 샘플 수 반환\n",
    "        return len(self.dataframe)\n",
    "\n",
    "    def __getitem__(self, idx):\n",
    "        # 주어진 인덱스(idx)에 해당하는 샘플을 반환\n",
    "        # 이미지 경로를 데이터프레임에서 가져옴\n",
    "        img_name = self.dataframe.iloc[idx, 0]\n",
    "        # 이미지 파일을 열고 RGB 모드로 변환\n",
    "        img = Image.open(img_name).convert('RGB')\n",
    "        # 레이블 정보를 정수형으로 가져옴\n",
    "        label = int(self.dataframe.iloc[idx, 1])\n",
    "\n",
    "        # transform이 지정되어 있다면 이미지에 전처리를 적용\n",
    "        if self.transform:\n",
    "            img = self.transform(img)\n",
    "\n",
    "        # 이미지와 레이블을 반환\n",
    "        return img, label"
   ]
  },
  {
   "cell_type": "code",
   "execution_count": null,
   "id": "7367a90e",
   "metadata": {
    "colab": {
     "base_uri": "https://localhost:8080/"
    },
    "executionInfo": {
     "elapsed": 434,
     "status": "ok",
     "timestamp": 1731934809080,
     "user": {
      "displayName": "김민수",
      "userId": "14499279899039145671"
     },
     "user_tz": -540
    },
    "id": "7367a90e",
    "outputId": "2d2fffe0-8ca3-4396-fc0a-21f7b72b31de"
   },
   "outputs": [
    {
     "name": "stdout",
     "output_type": "stream",
     "text": [
      "Overall Data: Mean - [193.67807472479592, 111.60517909723688, 118.44033090803525] Std - [63.00208387441839, 87.1299016633704, 71.00312754293988]\n"
     ]
    }
   ],
   "source": [
    "'''\n",
    "아래는 이미지 데이터셋의 각 RGB 채널에 대해 전체적인 평균(mean)과 표준 편차(standard deviation, std)를 계산하는 코드입니다.\n",
    "이 작업은 데이터 전처리 과정에서 매우 중요한데, 다음과 같은 목적이 있습니다.\n",
    "\n",
    "데이터 정규화 (Normalization): 딥러닝 모델에서 이미지를 입력으로 사용할 때, 입력 데이터의 스케일링을 동일하게 하는 것이 중요합니다.\n",
    "각 픽셀 값에서 채널별 평균을 빼고, 표준 편차로 나누어서 픽셀 값의 분포를 정규화할 수 있습니다.\n",
    "이렇게 함으로써 모델은 더 빠르게 수렴할 수 있고, 다른 데이터셋에 대한 모델의 일반화 능력을 향상시킬 수 있습니다.\n",
    "\n",
    "데이터 표준화 (Standardization):\n",
    "데이터셋에 있는 이미지들이 서로 다른 출처에서 오거나 다양한 조명 환경에서 촬영된 경우, 픽셀 값의 분포가 다를 수 있습니다.\n",
    "표준화 과정을 거치면 이러한 차이를 줄여 모델이 이미지의 구조적인 특성에 더 집중할 수 있게 해줍니다.\n",
    "\n",
    "모델 입력 요구사항 충족:\n",
    "많은 딥러닝 모델들, 특히 사전 훈련된 네트워크는 특정 범위의 입력 값을 요구합니다.\n",
    "예를 들어, 일부 모델은 입력 값으로 0에서 1 사이, 또는 -1에서 1 사이의 값을 요구할 수 있는데,\n",
    "평균과 표준 편차를 계산하면 이러한 요구사항을 충족시키는 정규화 과정을 쉽게 적용할 수 있습니다.\n",
    "\n",
    "하지만 해당 코드를 직접 실행하면, 매우 많은 연산량으로 인해 코랩 환경이 다운될 가능성이 높습니다.\n",
    "보다 좋은 환경에서 직접 실행해 보고, 본 과정에서는 미리 계산된 값으로 이를 대체하겠습니다.\n",
    "'''\n",
    "\n",
    "def compute_overall_mean_std(dfs):\n",
    "    all_pixels = {0: [], 1: [], 2: []}\n",
    "\n",
    "    for df in dfs:\n",
    "        for index, row in df.iterrows():\n",
    "            img_path = row['path']  # 'path' 대신에 실제 경로가 있는 컬럼명을 사용해주세요.\n",
    "            img = Image.open(img_path)\n",
    "            img_np = np.array(img)\n",
    "\n",
    "            for i in range(3): # RGB 채널\n",
    "                channel_pixels = img_np[:, :, i].ravel().tolist()  # 각 채널의 모든 픽셀 값을 수집합니다.\n",
    "                all_pixels[i].extend(channel_pixels)\n",
    "\n",
    "    means = [np.mean(all_pixels[i]) for i in range(3)]\n",
    "    stds = [np.std(all_pixels[i]) for i in range(3)]\n",
    "\n",
    "    return means, stds\n",
    "\n",
    "\n",
    "# train_df와 valid_df에 대해서 계산\n",
    "# 컴퓨팅 자원이 풍부한 환경에서 실행할 경우 직접 실행해볼 수 있습니다.\n",
    "# channel_means, channel_stds = compute_overall_mean_std([train_df, valid_df])\n",
    "\n",
    "# 연산량 이슈로 미리 계산해둔 값 사용\n",
    "channel_means = [193.67807472479592, 111.60517909723688, 118.44033090803525]\n",
    "channel_stds = [63.00208387441839, 87.1299016633704, 71.00312754293988]\n",
    "\n",
    "print(\"Overall Data: Mean -\", channel_means, \"Std -\", channel_stds)"
   ]
  },
  {
   "cell_type": "code",
   "execution_count": null,
   "id": "4f0f2e92",
   "metadata": {
    "colab": {
     "base_uri": "https://localhost:8080/"
    },
    "executionInfo": {
     "elapsed": 3,
     "status": "ok",
     "timestamp": 1731934809080,
     "user": {
      "displayName": "김민수",
      "userId": "14499279899039145671"
     },
     "user_tz": -540
    },
    "id": "4f0f2e92",
    "outputId": "64658b6f-9436-4841-a344-2c007182290c"
   },
   "outputs": [
    {
     "name": "stderr",
     "output_type": "stream",
     "text": [
      "/usr/local/lib/python3.10/dist-packages/torch/utils/data/dataloader.py:557: UserWarning: This DataLoader will create 4 worker processes in total. Our suggested max number of worker in current system is 2, which is smaller than what this DataLoader is going to create. Please be aware that excessive worker creation might get DataLoader running slow or even freeze, lower the worker number to avoid potential slowness/freeze if necessary.\n",
      "  warnings.warn(_create_warning_msg(\n"
     ]
    }
   ],
   "source": [
    "# 채널 평균 및 표준편차를 0~1 사이의 값으로 정규화\n",
    "normalized_channel_means = [x / 255 for x in channel_means]\n",
    "normalized_channel_stds = [x / 255 for x in channel_stds]\n",
    "\n",
    "# 이미지 전처리를 위한 변환 작업 정의.\n",
    "# transforms.Normalize 이전에 이미 픽셀값은 0~1 사이로 정규화 되어 있습니다.\n",
    "# 따라서 기존의 0~255 픽셀값 기준에서 도출된 channel_means, channel_stds 도 0~1 사이 값으로 정규화 된 normalized_channel_means, normalized_channel_stds 로 변환하여 사용합니다\n",
    "transform = transforms.Compose([\n",
    "    transforms.Resize((224, 224)),\n",
    "    transforms.ToTensor(),\n",
    "    transforms.Normalize(mean=normalized_channel_means, std=normalized_channel_stds),\n",
    "])\n",
    "\n",
    "# 코랩의 GPU 환경은 실행시마다 바뀔 수 있습니다.\n",
    "# 혹시 메모리 에러가 난다면 batch size를 줄여서 학습을 시도해 볼 수 있습니다.\n",
    "batch_size = 256\n",
    "\n",
    "# 데이터셋 로딩\n",
    "train_dataset = CustomDataset(dataframe=train_df, transform=transform)\n",
    "valid_dataset = CustomDataset(dataframe=valid_df, transform=transform)\n",
    "test_dataset = CustomDataset(dataframe=test_df, transform=transform)\n",
    "\n",
    "# 데이터 로더 설정\n",
    "train_loader = DataLoader(train_dataset, batch_size=batch_size, shuffle=True, num_workers=4)\n",
    "valid_loader = DataLoader(valid_dataset, batch_size=batch_size, shuffle=False, num_workers=4)\n",
    "test_loader = DataLoader(test_dataset, batch_size=batch_size, shuffle=False, num_workers=4)"
   ]
  },
  {
   "cell_type": "markdown",
   "id": "92f8fafd",
   "metadata": {
    "id": "92f8fafd"
   },
   "source": [
    "## ResNet 모델 학습"
   ]
  },
  {
   "cell_type": "code",
   "execution_count": null,
   "id": "d6185244",
   "metadata": {
    "colab": {
     "base_uri": "https://localhost:8080/"
    },
    "executionInfo": {
     "elapsed": 602,
     "status": "ok",
     "timestamp": 1731934810524,
     "user": {
      "displayName": "김민수",
      "userId": "14499279899039145671"
     },
     "user_tz": -540
    },
    "id": "d6185244",
    "outputId": "1f7b3ff5-a09e-46fb-a5ce-03a698bb8453"
   },
   "outputs": [
    {
     "name": "stderr",
     "output_type": "stream",
     "text": [
      "/usr/local/lib/python3.10/dist-packages/torchvision/models/_utils.py:208: UserWarning: The parameter 'pretrained' is deprecated since 0.13 and may be removed in the future, please use 'weights' instead.\n",
      "  warnings.warn(\n",
      "/usr/local/lib/python3.10/dist-packages/torchvision/models/_utils.py:223: UserWarning: Arguments other than a weight enum or `None` for 'weights' are deprecated since 0.13 and may be removed in the future. The current behavior is equivalent to passing `weights=ResNet18_Weights.IMAGENET1K_V1`. You can also use `weights=ResNet18_Weights.DEFAULT` to get the most up-to-date weights.\n",
      "  warnings.warn(msg)\n",
      "Downloading: \"https://download.pytorch.org/models/resnet18-f37072fd.pth\" to /root/.cache/torch/hub/checkpoints/resnet18-f37072fd.pth\n",
      "100%|██████████| 44.7M/44.7M [00:00<00:00, 137MB/s]\n"
     ]
    }
   ],
   "source": [
    "# 사전 학습된 ResNet18 모델 불러오기\n",
    "model = models.resnet18(pretrained=True)\n",
    "\n",
    "# 모델의 마지막 완전 연결 계층(fc)을 사용자 정의 계층으로 대체\n",
    "# 이 계층은 in_features에서 10개의 출력으로 매핑합니다 (10개 클래스 분류를 위함)\n",
    "model.fc = nn.Sequential(\n",
    "    nn.Linear(model.fc.in_features, 10),\n",
    ")\n",
    "\n",
    "# 교차 엔트로피 손실 함수 초기화\n",
    "criterion = nn.CrossEntropyLoss()\n",
    "# 최적화 알고리즘으로 Adam 사용\n",
    "optimizer = torch.optim.Adam(model.parameters(), lr=1e-5, weight_decay=1e-5)\n",
    "\n",
    "device = torch.device(\"cuda\" if torch.cuda.is_available() else \"cpu\")\n",
    "model = model.to(device)"
   ]
  },
  {
   "cell_type": "code",
   "execution_count": null,
   "id": "1129fd3d",
   "metadata": {
    "colab": {
     "background_save": true
    },
    "id": "1129fd3d"
   },
   "outputs": [],
   "source": [
    "# 학습 파라미터 설정\n",
    "num_epochs = 50  # 학습 반복 횟수\n",
    "best_val_acc = 0.0  # 최상의 검증 정확도를 저장하는 변수\n",
    "patience = 5  # 얼리 스탑핑을 위한 patience 설정 (개선되지 않은 횟수)\n",
    "no_improve = 0  # 개선되지 않은 에포크 수를 카운트하는 변수\n",
    "\n",
    "for epoch in range(num_epochs):\n",
    "\n",
    "    # 모델을 학습 모드로 전환\n",
    "    model.train()\n",
    "    running_loss = 0.0  # 에포크 동안의 총 손실을 저장하는 변수\n",
    "    correct_train = 0  # 정확하게 예측한 학습 데이터의 개수를 저장하는 변수\n",
    "    total_train = 0  # 총 학습 데이터 개수를 저장하는 변수\n",
    "\n",
    "    # 학습 데이터를 반복하여 모델 업데이트\n",
    "    for inputs, labels in tqdm(train_loader, desc=f\"Epoch {epoch+1}/{num_epochs}\", dynamic_ncols=True):\n",
    "        # 데이터를 장치로 이동 (GPU 또는 CPU)\n",
    "        inputs, labels = inputs.to(device), labels.to(device)\n",
    "\n",
    "        # 옵티마이저의 기울기 초기화\n",
    "        optimizer.zero_grad()\n",
    "        # 모델에 입력을 전달하여 예측값 출력\n",
    "        outputs = model(inputs)\n",
    "        # 손실 함수 계산\n",
    "        loss = criterion(outputs, labels)\n",
    "        # 손실에 대한 역전파 수행 (기울기 계산)\n",
    "        loss.backward()\n",
    "        # 옵티마이저를 통해 모델 파라미터 업데이\n",
    "        optimizer.step()\n",
    "        # 현재 배치의 손실을 누적\n",
    "        running_loss += loss.item()\n",
    "\n",
    "        # 정확도 계산을 위한 예측값 처리\n",
    "        _, predicted = torch.max(outputs.data, 1) # 최대값을 가지는 클래스 예측\n",
    "        total_train += labels.size(0) # 총 학습 데이터 수 누적\n",
    "        correct_train += (predicted == labels).sum().item() # 맞춘 예측의 개수 누적\n",
    "\n",
    "    # 에포크별 학습 정확도와 손실 계산\n",
    "    train_acc = correct_train / total_train\n",
    "    train_loss = running_loss / len(train_loader)\n",
    "\n",
    "    # Validate\n",
    "    model.eval()  # 모델을 평가 모드로 전환 (드롭아웃, 배치 정규화 등 비활성화)\n",
    "    running_val_loss = 0.0  # 검증 손실을 저장하는 변수\n",
    "    correct_val = 0  # 정확하게 예측한 검증 데이터의 개수를 저장하는 변수\n",
    "    total_val = 0  # 총 검증 데이터 개수를 저장하는 변수\n",
    "    with torch.no_grad(): # 검증 시에는 기울기를 계산하지 않음 (메모리 및 계산량 절약)\n",
    "        for inputs, labels in valid_loader:\n",
    "            # 데이터를 장치로 이동\n",
    "            inputs, labels = inputs.to(device), labels.to(device)\n",
    "            # 모델에 입력을 전달하여 예측값 출력\n",
    "            outputs = model(inputs)\n",
    "            # 손실 함수 계산\n",
    "            loss = criterion(outputs, labels)\n",
    "            # 현재 배치의 손실을 누적\n",
    "            running_val_loss += loss.item()\n",
    "\n",
    "            # 정확도 계산을 위한 예측값 처리\n",
    "            _, predicted = torch.max(outputs.data, 1)  # 최대값을 가지는 클래스 예측\n",
    "            total_val += labels.size(0)  # 총 검증 데이터 수 누적\n",
    "            correct_val += (predicted == labels).sum().item()  # 맞춘 예측의 개수 누적\n",
    "\n",
    "    # 에포크별 검증 정확도와 손실 계산\n",
    "    val_acc = correct_val / total_val  # 검증 정확도 계산\n",
    "    val_loss = running_val_loss / len(valid_loader)  # 검증 손실 평균 계산\n",
    "\n",
    "    # 학습 및 검증 결과 출력\n",
    "    print(f'Train Loss: {train_loss:.4f}, Train Accuracy: {train_acc:.4f}, '\n",
    "          f'Validation Loss: {val_loss:.4f}, Validation Accuracy: {val_acc:.4f}')\n",
    "\n",
    "     # 최상의 검증 정확도를 기록하고 모델 저장\n",
    "    if val_acc > best_val_acc:\n",
    "        best_val_acc = val_acc\n",
    "        torch.save(model.state_dict(), 'best_model_before.pth')\n",
    "        no_improve = 0\n",
    "    else:\n",
    "        no_improve += 1\n",
    "        if no_improve >= patience:  # 설정한 얼리 스타핑 patience에 도달하면 학습을 중단합니다.\n",
    "            print(\"Early stopping\")\n",
    "            break\n",
    "\n",
    "print('Finished Training')"
   ]
  },
  {
   "cell_type": "markdown",
   "id": "c33fa373",
   "metadata": {
    "id": "c33fa373"
   },
   "source": [
    "## best model load"
   ]
  },
  {
   "cell_type": "code",
   "execution_count": null,
   "id": "6e35921f",
   "metadata": {
    "id": "6e35921f"
   },
   "outputs": [],
   "source": [
    "model.load_state_dict(torch.load('best_model_before.pth'))\n",
    "model.eval()"
   ]
  },
  {
   "cell_type": "markdown",
   "id": "fb29c657",
   "metadata": {
    "id": "fb29c657"
   },
   "source": [
    "## 오차 데이터 분석 - mis label 확인\n",
    "- 높은 confidence로 예측 했으나, class가 다를 시 해당 데이터의 라벨링이 잘못 되었는지 확인이 필요합니다."
   ]
  },
  {
   "cell_type": "code",
   "execution_count": null,
   "id": "3bb616d0",
   "metadata": {
    "id": "3bb616d0",
    "outputId": "c6ce6f27-c3fa-4bce-894d-cb8eed8d511d"
   },
   "outputs": [
    {
     "name": "stderr",
     "output_type": "stream",
     "text": [
      "27237it [04:09, 108.98it/s]\n"
     ]
    }
   ],
   "source": [
    "all_df = pd.concat([origin_train_df,test_df])\n",
    "\n",
    "# 잘못 예측된 이미지와 라벨을 저장할 리스트\n",
    "mismatched_images = []\n",
    "\n",
    "# Softmax 함수 초기화 (확률 값으로 변환하기 위함)\n",
    "softmax = nn.Softmax(dim=1)\n",
    "\n",
    "# 모델을 GPU로 이동\n",
    "model = model.to('cuda')  # 만약 사용 가능한 GPU가 있다면.\n",
    "\n",
    "for index,(img_path,true_label) in tqdm(all_df.iterrows()):\n",
    "\n",
    "    # Load and preprocess the image\n",
    "    image = Image.open(img_path).convert('RGB')\n",
    "    input_tensor = transform(image).unsqueeze(0)\n",
    "\n",
    "    # 입력 텐서를 GPU로 이동\n",
    "    input_tensor = input_tensor.to('cuda')  # 만약 사용 가능한 GPU가 있다면.\n",
    "\n",
    "    # Get model outputs\n",
    "    with torch.no_grad():\n",
    "        logits = model(input_tensor)\n",
    "\n",
    "    # Softmax를 사용하여 확률로 변환\n",
    "    probabilities = softmax(logits)\n",
    "\n",
    "    # 가장 높은 확률을 가진 라벨과 그 확률을 추출\n",
    "    max_prob, predicted_label = torch.max(probabilities, 1)\n",
    "\n",
    "     # 예측된 라벨이 실제 라벨과 다르고, 확률이 0.90보다 높은 경우 리스트에 추가\n",
    "    if predicted_label.cpu().item() != true_label and max_prob.item() > 0.90:\n",
    "        mismatched_images.append((img_path, true_label))"
   ]
  },
  {
   "cell_type": "markdown",
   "id": "ec801210",
   "metadata": {
    "id": "ec801210"
   },
   "source": [
    "## label mistakenness 확인\n",
    "- 높은 confidence로 예측 했으나, class가 다를 시, 해당 데이터의 라벨링이 잘못 되었는지 확인이 필요합니다."
   ]
  },
  {
   "cell_type": "code",
   "execution_count": null,
   "id": "Qtg2hcWSl8pe",
   "metadata": {
    "id": "Qtg2hcWSl8pe",
    "outputId": "f900cb60-0060-4a08-c04a-16561ef01859"
   },
   "outputs": [
    {
     "name": "stdout",
     "output_type": "stream",
     "text": [
      "./dataset/digit_data/0/00247_0.jpg 0\n"
     ]
    },
    {
     "data": {
      "image/png": "[encoded data removed]",
      "text/plain": [
       "<PIL.JpegImagePlugin.JpegImageFile image mode=RGB size=101x313>"
      ]
     },
     "metadata": {},
     "output_type": "display_data"
    },
    {
     "name": "stdout",
     "output_type": "stream",
     "text": [
      "./dataset/digit_data/0/00411_4.jpg 0\n"
     ]
    },
    {
     "data": {
      "image/png": "[encoded data removed]",
      "text/plain": [
       "<PIL.JpegImagePlugin.JpegImageFile image mode=RGB size=29x57>"
      ]
     },
     "metadata": {},
     "output_type": "display_data"
    },
    {
     "name": "stdout",
     "output_type": "stream",
     "text": [
      "./dataset/digit_data/0/00548_0.jpg 0\n"
     ]
    },
    {
     "data": {
      "image/png": "[encoded data removed]",
      "text/plain": [
       "<PIL.JpegImagePlugin.JpegImageFile image mode=RGB size=22x54>"
      ]
     },
     "metadata": {},
     "output_type": "display_data"
    },
    {
     "name": "stdout",
     "output_type": "stream",
     "text": [
      "./dataset/digit_data/0/00642_4.jpg 0\n"
     ]
    },
    {
     "data": {
      "image/png": "[encoded data removed]",
      "text/plain": [
       "<PIL.JpegImagePlugin.JpegImageFile image mode=RGB size=19x44>"
      ]
     },
     "metadata": {},
     "output_type": "display_data"
    },
    {
     "name": "stdout",
     "output_type": "stream",
     "text": [
      "./dataset/digit_data/0/00832_4.jpg 0\n"
     ]
    },
    {
     "data": {
      "image/png": "[encoded data removed]",
      "text/plain": [
       "<PIL.JpegImagePlugin.JpegImageFile image mode=RGB size=11x24>"
      ]
     },
     "metadata": {},
     "output_type": "display_data"
    },
    {
     "name": "stdout",
     "output_type": "stream",
     "text": [
      "./dataset/digit_data/0/02819_2.jpg 0\n"
     ]
    },
    {
     "data": {
      "image/png": "[encoded data removed]",
      "text/plain": [
       "<PIL.JpegImagePlugin.JpegImageFile image mode=RGB size=127x181>"
      ]
     },
     "metadata": {},
     "output_type": "display_data"
    },
    {
     "name": "stdout",
     "output_type": "stream",
     "text": [
      "./dataset/digit_data/1/02701_3.jpg 1\n"
     ]
    },
    {
     "data": {
      "image/png": "[encoded data removed]",
      "text/plain": [
       "<PIL.JpegImagePlugin.JpegImageFile image mode=RGB size=96x143>"
      ]
     },
     "metadata": {},
     "output_type": "display_data"
    },
    {
     "name": "stdout",
     "output_type": "stream",
     "text": [
      "./dataset/digit_data/2/00140_4.jpg 2\n"
     ]
    },
    {
     "data": {
      "image/png": "[encoded data removed]",
      "text/plain": [
       "<PIL.JpegImagePlugin.JpegImageFile image mode=RGB size=58x101>"
      ]
     },
     "metadata": {},
     "output_type": "display_data"
    },
    {
     "name": "stdout",
     "output_type": "stream",
     "text": [
      "./dataset/digit_data/2/00251_6.jpg 2\n"
     ]
    },
    {
     "data": {
      "image/png": "[encoded data removed]",
      "text/plain": [
       "<PIL.JpegImagePlugin.JpegImageFile image mode=RGB size=48x124>"
      ]
     },
     "metadata": {},
     "output_type": "display_data"
    },
    {
     "name": "stdout",
     "output_type": "stream",
     "text": [
      "./dataset/digit_data/2/00673_1.jpg 2\n"
     ]
    },
    {
     "data": {
      "image/png": "[encoded data removed]",
      "text/plain": [
       "<PIL.JpegImagePlugin.JpegImageFile image mode=RGB size=12x23>"
      ]
     },
     "metadata": {},
     "output_type": "display_data"
    },
    {
     "name": "stdout",
     "output_type": "stream",
     "text": [
      "./dataset/digit_data/2/00767_5.jpg 2\n"
     ]
    },
    {
     "data": {
      "image/png": "[encoded data removed]",
      "text/plain": [
       "<PIL.JpegImagePlugin.JpegImageFile image mode=RGB size=28x84>"
      ]
     },
     "metadata": {},
     "output_type": "display_data"
    },
    {
     "name": "stdout",
     "output_type": "stream",
     "text": [
      "./dataset/digit_data/2/00978_4.jpg 2\n"
     ]
    },
    {
     "data": {
      "image/png": "[encoded data removed]",
      "text/plain": [
       "<PIL.JpegImagePlugin.JpegImageFile image mode=RGB size=36x62>"
      ]
     },
     "metadata": {},
     "output_type": "display_data"
    },
    {
     "name": "stdout",
     "output_type": "stream",
     "text": [
      "./dataset/digit_data/2/02489_3.jpg 2\n"
     ]
    },
    {
     "data": {
      "image/png": "[encoded data removed]",
      "text/plain": [
       "<PIL.JpegImagePlugin.JpegImageFile image mode=RGB size=176x253>"
      ]
     },
     "metadata": {},
     "output_type": "display_data"
    },
    {
     "name": "stdout",
     "output_type": "stream",
     "text": [
      "./dataset/digit_data/3/02282_0.jpg 3\n"
     ]
    },
    {
     "data": {
      "image/png": "[encoded data removed]",
      "text/plain": [
       "<PIL.JpegImagePlugin.JpegImageFile image mode=RGB size=100x143>"
      ]
     },
     "metadata": {},
     "output_type": "display_data"
    },
    {
     "name": "stdout",
     "output_type": "stream",
     "text": [
      "./dataset/digit_data/4/00626_1.jpg 4\n"
     ]
    },
    {
     "data": {
      "image/png": "[encoded data removed]",
      "text/plain": [
       "<PIL.JpegImagePlugin.JpegImageFile image mode=RGB size=17x51>"
      ]
     },
     "metadata": {},
     "output_type": "display_data"
    },
    {
     "name": "stdout",
     "output_type": "stream",
     "text": [
      "./dataset/digit_data/5/00150_2.jpg 5\n"
     ]
    },
    {
     "data": {
      "image/png": "[encoded data removed]",
      "text/plain": [
       "<PIL.JpegImagePlugin.JpegImageFile image mode=RGB size=116x255>"
      ]
     },
     "metadata": {},
     "output_type": "display_data"
    },
    {
     "name": "stdout",
     "output_type": "stream",
     "text": [
      "./dataset/digit_data/5/00268_0.jpg 5\n"
     ]
    },
    {
     "data": {
      "image/png": "[encoded data removed]",
      "text/plain": [
       "<PIL.JpegImagePlugin.JpegImageFile image mode=RGB size=77x106>"
      ]
     },
     "metadata": {},
     "output_type": "display_data"
    },
    {
     "name": "stdout",
     "output_type": "stream",
     "text": [
      "./dataset/digit_data/5/01557_5.jpg 5\n"
     ]
    },
    {
     "data": {
      "image/png": "[encoded data removed]",
      "text/plain": [
       "<PIL.JpegImagePlugin.JpegImageFile image mode=RGB size=39x63>"
      ]
     },
     "metadata": {},
     "output_type": "display_data"
    },
    {
     "name": "stdout",
     "output_type": "stream",
     "text": [
      "./dataset/digit_data/5/01868_6.jpg 5\n"
     ]
    },
    {
     "data": {
      "image/png": "[encoded data removed]",
      "text/plain": [
       "<PIL.JpegImagePlugin.JpegImageFile image mode=RGB size=42x64>"
      ]
     },
     "metadata": {},
     "output_type": "display_data"
    },
    {
     "name": "stdout",
     "output_type": "stream",
     "text": [
      "./dataset/digit_data/5/02526_5.jpg 5\n"
     ]
    },
    {
     "data": {
      "image/png": "[encoded data removed]",
      "text/plain": [
       "<PIL.JpegImagePlugin.JpegImageFile image mode=RGB size=34x52>"
      ]
     },
     "metadata": {},
     "output_type": "display_data"
    },
    {
     "name": "stdout",
     "output_type": "stream",
     "text": [
      "./dataset/digit_data/5/03525_3.jpg 5\n"
     ]
    },
    {
     "data": {
      "image/png": "[encoded data removed]",
      "text/plain": [
       "<PIL.JpegImagePlugin.JpegImageFile image mode=RGB size=91x118>"
      ]
     },
     "metadata": {},
     "output_type": "display_data"
    },
    {
     "name": "stdout",
     "output_type": "stream",
     "text": [
      "./dataset/digit_data/6/00064_5.jpg 6\n"
     ]
    },
    {
     "data": {
      "image/png": "[encoded data removed]",
      "text/plain": [
       "<PIL.JpegImagePlugin.JpegImageFile image mode=RGB size=32x74>"
      ]
     },
     "metadata": {},
     "output_type": "display_data"
    },
    {
     "name": "stdout",
     "output_type": "stream",
     "text": [
      "./dataset/digit_data/6/00617_6.jpg 6\n"
     ]
    },
    {
     "data": {
      "image/png": "[encoded data removed]",
      "text/plain": [
       "<PIL.JpegImagePlugin.JpegImageFile image mode=RGB size=23x77>"
      ]
     },
     "metadata": {},
     "output_type": "display_data"
    },
    {
     "name": "stdout",
     "output_type": "stream",
     "text": [
      "./dataset/digit_data/6/02063_5.jpg 6\n"
     ]
    },
    {
     "data": {
      "image/png": "[encoded data removed]",
      "text/plain": [
       "<PIL.JpegImagePlugin.JpegImageFile image mode=RGB size=53x110>"
      ]
     },
     "metadata": {},
     "output_type": "display_data"
    },
    {
     "name": "stdout",
     "output_type": "stream",
     "text": [
      "./dataset/digit_data/7/01186_6.jpg 7\n"
     ]
    },
    {
     "data": {
      "image/png": "[encoded data removed]",
      "text/plain": [
       "<PIL.JpegImagePlugin.JpegImageFile image mode=RGB size=70x96>"
      ]
     },
     "metadata": {},
     "output_type": "display_data"
    },
    {
     "name": "stdout",
     "output_type": "stream",
     "text": [
      "./dataset/digit_data/8/00164_2.jpg 8\n"
     ]
    },
    {
     "data": {
      "image/png": "[encoded data removed]",
      "text/plain": [
       "<PIL.JpegImagePlugin.JpegImageFile image mode=RGB size=58x139>"
      ]
     },
     "metadata": {},
     "output_type": "display_data"
    },
    {
     "name": "stdout",
     "output_type": "stream",
     "text": [
      "./dataset/digit_data/8/00239_5.jpg 8\n"
     ]
    },
    {
     "data": {
      "image/png": "[encoded data removed]",
      "text/plain": [
       "<PIL.JpegImagePlugin.JpegImageFile image mode=RGB size=40x79>"
      ]
     },
     "metadata": {},
     "output_type": "display_data"
    },
    {
     "name": "stdout",
     "output_type": "stream",
     "text": [
      "./dataset/digit_data/8/00826_6.jpg 8\n"
     ]
    },
    {
     "data": {
      "image/png": "[encoded data removed]",
      "text/plain": [
       "<PIL.JpegImagePlugin.JpegImageFile image mode=RGB size=26x44>"
      ]
     },
     "metadata": {},
     "output_type": "display_data"
    },
    {
     "name": "stdout",
     "output_type": "stream",
     "text": [
      "./dataset/digit_data/8/01567_7.jpg 8\n"
     ]
    },
    {
     "data": {
      "image/png": "[encoded data removed]",
      "text/plain": [
       "<PIL.JpegImagePlugin.JpegImageFile image mode=RGB size=48x71>"
      ]
     },
     "metadata": {},
     "output_type": "display_data"
    },
    {
     "name": "stdout",
     "output_type": "stream",
     "text": [
      "./dataset/digit_data/0/00527_0.jpg 0\n"
     ]
    },
    {
     "data": {
      "image/png": "[encoded data removed]",
      "text/plain": [
       "<PIL.JpegImagePlugin.JpegImageFile image mode=RGB size=96x263>"
      ]
     },
     "metadata": {},
     "output_type": "display_data"
    },
    {
     "name": "stdout",
     "output_type": "stream",
     "text": [
      "./dataset/digit_data/0/00744_4.jpg 0\n"
     ]
    },
    {
     "data": {
      "image/png": "[encoded data removed]",
      "text/plain": [
       "<PIL.JpegImagePlugin.JpegImageFile image mode=RGB size=27x62>"
      ]
     },
     "metadata": {},
     "output_type": "display_data"
    },
    {
     "name": "stdout",
     "output_type": "stream",
     "text": [
      "./dataset/digit_data/1/01141_6.jpg 1\n"
     ]
    },
    {
     "data": {
      "image/png": "[encoded data removed]",
      "text/plain": [
       "<PIL.JpegImagePlugin.JpegImageFile image mode=RGB size=16x39>"
      ]
     },
     "metadata": {},
     "output_type": "display_data"
    },
    {
     "name": "stdout",
     "output_type": "stream",
     "text": [
      "./dataset/digit_data/1/02206_6.jpg 1\n"
     ]
    },
    {
     "data": {
      "image/png": "[encoded data removed]",
      "text/plain": [
       "<PIL.JpegImagePlugin.JpegImageFile image mode=RGB size=15x68>"
      ]
     },
     "metadata": {},
     "output_type": "display_data"
    },
    {
     "name": "stdout",
     "output_type": "stream",
     "text": [
      "./dataset/digit_data/2/00025_3.jpg 2\n"
     ]
    },
    {
     "data": {
      "image/png": "[encoded data removed]",
      "text/plain": [
       "<PIL.JpegImagePlugin.JpegImageFile image mode=RGB size=80x124>"
      ]
     },
     "metadata": {},
     "output_type": "display_data"
    },
    {
     "name": "stdout",
     "output_type": "stream",
     "text": [
      "./dataset/digit_data/3/02534_5.jpg 3\n"
     ]
    },
    {
     "data": {
      "image/png": "[encoded data removed]",
      "text/plain": [
       "<PIL.JpegImagePlugin.JpegImageFile image mode=RGB size=40x62>"
      ]
     },
     "metadata": {},
     "output_type": "display_data"
    },
    {
     "name": "stdout",
     "output_type": "stream",
     "text": [
      "./dataset/digit_data/5/00170_2.jpg 5\n"
     ]
    },
    {
     "data": {
      "image/png": "[encoded data removed]",
      "text/plain": [
       "<PIL.JpegImagePlugin.JpegImageFile image mode=RGB size=128x190>"
      ]
     },
     "metadata": {},
     "output_type": "display_data"
    },
    {
     "name": "stdout",
     "output_type": "stream",
     "text": [
      "./dataset/digit_data/5/03605_4.jpg 5\n"
     ]
    },
    {
     "data": {
      "image/png": "[encoded data removed]",
      "text/plain": [
       "<PIL.JpegImagePlugin.JpegImageFile image mode=RGB size=77x135>"
      ]
     },
     "metadata": {},
     "output_type": "display_data"
    },
    {
     "name": "stdout",
     "output_type": "stream",
     "text": [
      "./dataset/digit_data/6/01340_6.jpg 6\n"
     ]
    },
    {
     "data": {
      "image/png": "[encoded data removed]",
      "text/plain": [
       "<PIL.JpegImagePlugin.JpegImageFile image mode=RGB size=65x151>"
      ]
     },
     "metadata": {},
     "output_type": "display_data"
    },
    {
     "name": "stdout",
     "output_type": "stream",
     "text": [
      "./dataset/digit_data/7/00895_3.jpg 7\n"
     ]
    },
    {
     "data": {
      "image/png": "[encoded data removed]",
      "text/plain": [
       "<PIL.JpegImagePlugin.JpegImageFile image mode=RGB size=105x133>"
      ]
     },
     "metadata": {},
     "output_type": "display_data"
    },
    {
     "name": "stdout",
     "output_type": "stream",
     "text": [
      "./dataset/digit_data/8/02076_3.jpg 8\n"
     ]
    },
    {
     "data": {
      "image/png": "[encoded data removed]",
      "text/plain": [
       "<PIL.JpegImagePlugin.JpegImageFile image mode=RGB size=10x15>"
      ]
     },
     "metadata": {},
     "output_type": "display_data"
    },
    {
     "name": "stdout",
     "output_type": "stream",
     "text": [
      "./dataset/digit_data/9/01117_4.jpg 9\n"
     ]
    },
    {
     "data": {
      "image/png": "[encoded data removed]",
      "text/plain": [
       "<PIL.JpegImagePlugin.JpegImageFile image mode=RGB size=45x73>"
      ]
     },
     "metadata": {},
     "output_type": "display_data"
    }
   ],
   "source": [
    "for path,label in mismatched_images:\n",
    "    print(path, label)\n",
    "    img = Image.open(path)\n",
    "    img.show()"
   ]
  },
  {
   "cell_type": "markdown",
   "id": "e116f2b5",
   "metadata": {
    "id": "e116f2b5"
   },
   "source": [
    "## 잘못된 라벨 수정\n",
    "- 시각화를 해보니 잘못 라벨링이 된 항목들이 몇 개 보입니다.\n",
    "- confidence가 높은 오답을 시각화 했을 때, 육안으로 구분 가능한 잘못된 라벨들이 포함되어 있음을 알 수 있습니다\n",
    "- 모델의 성능 향상을 위해 라벨을 수정하여 줍니다 (가능한 만큼)"
   ]
  },
  {
   "cell_type": "code",
   "execution_count": null,
   "id": "3c23d8e0",
   "metadata": {
    "id": "3c23d8e0"
   },
   "outputs": [],
   "source": [
    "# label_index : 라벨을 뜻하는 폴더명의 위치 (split 할 경우)\n",
    "def move_data(filename: str, label: int, label_index=3):\n",
    "    moved_paths = []\n",
    "    for path1 in glob(f\"{image_path}/*/{filename}\"):\n",
    "        divided = path1.split(\"/\")\n",
    "        divided[label_index] = str(label)\n",
    "        path2 = \"/\".join(divided)\n",
    "        if path1 != path2:\n",
    "            shutil.move(path1, path2)\n",
    "            print(f\"{path1} => {path2}\")\n",
    "            moved_paths.append((path1, path2))\n",
    "    return moved_paths"
   ]
  },
  {
   "cell_type": "code",
   "execution_count": null,
   "id": "6a3e5a74",
   "metadata": {
    "id": "6a3e5a74"
   },
   "outputs": [],
   "source": [
    "image_changes = [\n",
    "    (\"00247_0.jpg\", 1),\n",
    "    (\"00642_4.jpg\", 3),\n",
    "    (\"02819_2.jpg\", 7),\n",
    "    (\"02701_3.jpg\", 0),\n",
    "    (\"00140_4.jpg\", 3),\n",
    "    (\"02489_3.jpg\", 0),\n",
    "    (\"02574_7.jpg\", 0),\n",
    "    (\"02282_0.jpg\", 2),\n",
    "    (\"00626_1.jpg\", 1),\n",
    "    (\"01561_0.jpg\", 5),\n",
    "    (\"00150_2.jpg\", 1),\n",
    "    (\"00268_0.jpg\", 4),\n",
    "    (\"03525_3.jpg\", 0),\n",
    "    (\"00617_6.jpg\", 1),\n",
    "    (\"00164_2.jpg\", 1),\n",
    "    (\"00527_0.jpg\", 1),\n",
    "    (\"00025_3.jpg\", 0),\n",
    "    (\"02534_5.jpg\", 8),\n",
    "    (\"00895_3.jpg\", 0),\n",
    "    (\"02334_0.jpg\", 2),\n",
    "    (\"00411_4.jpg\", 3),\n",
    "    (\"01186_6.jpg\", 2),\n",
    "]"
   ]
  },
  {
   "cell_type": "code",
   "execution_count": null,
   "id": "213f97bb",
   "metadata": {
    "colab": {
     "base_uri": "https://localhost:8080/"
    },
    "executionInfo": {
     "elapsed": 418,
     "status": "ok",
     "timestamp": 1699949809734,
     "user": {
      "displayName": "김민수",
      "userId": "16980525942188612345"
     },
     "user_tz": -540
    },
    "id": "213f97bb",
    "outputId": "7827381c-966d-4a2d-e1d3-4fd9acf8dcd9"
   },
   "outputs": [
    {
     "name": "stdout",
     "output_type": "stream",
     "text": [
      "./dataset/digit_data/0/00247_0.jpg => ./dataset/digit_data/1/00247_0.jpg\n",
      "./dataset/digit_data/0/00642_4.jpg => ./dataset/digit_data/3/00642_4.jpg\n",
      "./dataset/digit_data/0/02819_2.jpg => ./dataset/digit_data/7/02819_2.jpg\n",
      "./dataset/digit_data/1/02701_3.jpg => ./dataset/digit_data/0/02701_3.jpg\n",
      "./dataset/digit_data/2/00140_4.jpg => ./dataset/digit_data/3/00140_4.jpg\n",
      "./dataset/digit_data/2/02489_3.jpg => ./dataset/digit_data/0/02489_3.jpg\n",
      "./dataset/digit_data/2/02574_7.jpg => ./dataset/digit_data/0/02574_7.jpg\n",
      "./dataset/digit_data/3/02282_0.jpg => ./dataset/digit_data/2/02282_0.jpg\n",
      "./dataset/digit_data/4/00626_1.jpg => ./dataset/digit_data/1/00626_1.jpg\n",
      "./dataset/digit_data/4/01561_0.jpg => ./dataset/digit_data/5/01561_0.jpg\n",
      "./dataset/digit_data/5/00150_2.jpg => ./dataset/digit_data/1/00150_2.jpg\n",
      "./dataset/digit_data/5/00268_0.jpg => ./dataset/digit_data/4/00268_0.jpg\n",
      "./dataset/digit_data/5/03525_3.jpg => ./dataset/digit_data/0/03525_3.jpg\n",
      "./dataset/digit_data/6/00617_6.jpg => ./dataset/digit_data/1/00617_6.jpg\n",
      "./dataset/digit_data/8/00164_2.jpg => ./dataset/digit_data/1/00164_2.jpg\n",
      "./dataset/digit_data/0/00527_0.jpg => ./dataset/digit_data/1/00527_0.jpg\n",
      "./dataset/digit_data/2/00025_3.jpg => ./dataset/digit_data/0/00025_3.jpg\n",
      "./dataset/digit_data/3/02534_5.jpg => ./dataset/digit_data/8/02534_5.jpg\n",
      "./dataset/digit_data/7/00895_3.jpg => ./dataset/digit_data/0/00895_3.jpg\n",
      "./dataset/digit_data/3/02334_0.jpg => ./dataset/digit_data/2/02334_0.jpg\n",
      "./dataset/digit_data/0/00411_4.jpg => ./dataset/digit_data/3/00411_4.jpg\n",
      "./dataset/digit_data/7/01186_6.jpg => ./dataset/digit_data/2/01186_6.jpg\n"
     ]
    }
   ],
   "source": [
    "moved_paths = []\n",
    "\n",
    "# image_changes 리스트를 기반으로 이미지 데이터 이동\n",
    "for img_file, new_label in image_changes:\n",
    "    moved_paths.extend(move_data(img_file, new_label))"
   ]
  },
  {
   "cell_type": "code",
   "execution_count": null,
   "id": "c9ba2229",
   "metadata": {
    "id": "c9ba2229"
   },
   "outputs": [],
   "source": [
    "changes_dict = {img_name: new_label for img_name, new_label in image_changes}"
   ]
  },
  {
   "cell_type": "code",
   "execution_count": null,
   "id": "997afd5e",
   "metadata": {
    "id": "997afd5e"
   },
   "outputs": [],
   "source": [
    "def update_labels_txt(txt_path, changes_dict):\n",
    "    # 함수 설명: 주어진 텍스트 파일(txt_path)의 레이블을 changes_dict에 따라 업데이트합니다.\n",
    "    # txt_path: 레이블 정보가 저장된 텍스트 파일 경로\n",
    "    # changes_dict: 이미지 이름을 키로 하고, 변경할 레이블을 값으로 가지는 딕셔너리\n",
    "\n",
    "    try:\n",
    "        # 텍스트 파일을 읽기 모드로 열기\n",
    "        with open(txt_path, 'r') as file:\n",
    "            data = file.readlines()  # 파일의 모든 라인을 읽어와 리스트로 저장\n",
    "    except FileNotFoundError:\n",
    "        # 파일이 존재하지 않을 경우 예외 처리\n",
    "        print(f\"{txt_path} not found.\")  # 파일이 없음을 알리는 메시지 출력\n",
    "        return  # 함수 종료\n",
    "\n",
    "    # 업데이트된 데이터를 저장할 리스트\n",
    "    updated_data = []\n",
    "\n",
    "    # 파일의 각 라인을 반복하면서 레이블을 변경합니다.\n",
    "    for line in data:\n",
    "        # 라인에서 이미지 이름 추출 (\"/\"로 나누어 마지막 부분이 이미지 이름)\n",
    "        img_name = line.strip().split(\"/\")[-1]\n",
    "\n",
    "        # changes_dict에 이미지 이름이 있는지 확인\n",
    "        if img_name in changes_dict:\n",
    "            # 만약 변경해야 하는 이미지 이름이 있다면, 기존 레이블을 새로운 레이블로 업데이트\n",
    "            print(f\"Updating {img_name}: label {line.strip().split('/')[0]} => {changes_dict[img_name]}\")\n",
    "            # 변경된 레이블과 이미지 이름을 새로운 형식으로 저장\n",
    "            updated_data.append(f\"{changes_dict[img_name]}/{img_name}\\n\")\n",
    "        else:\n",
    "            # 변경할 필요가 없는 경우, 원래의 라인을 그대로 저장\n",
    "            updated_data.append(line)\n",
    "\n",
    "    # 업데이트된 데이터를 원래 파일에 덮어쓰기\n",
    "    try:\n",
    "        with open(txt_path, 'w') as file:\n",
    "            file.writelines(updated_data)  # 모든 업데이트된 라인을 파일에 기록\n",
    "    except IOError:\n",
    "        # 파일 쓰기 중 에러가 발생할 경우 예외 처리\n",
    "        print(f\"Error writing to {txt_path}.\")  # 쓰기 실패 메시지 출력"
   ]
  },
  {
   "cell_type": "code",
   "execution_count": null,
   "id": "c4c68c2e",
   "metadata": {
    "executionInfo": {
     "elapsed": 258,
     "status": "ok",
     "timestamp": 1699949823258,
     "user": {
      "displayName": "김민수",
      "userId": "16980525942188612345"
     },
     "user_tz": -540
    },
    "id": "c4c68c2e",
    "outputId": "cd2f85e3-e558-464d-eaeb-56dba9037ddf"
   },
   "outputs": [
    {
     "name": "stdout",
     "output_type": "stream",
     "text": [
      "Updating 00247_0.jpg: label 0 => 1\n",
      "Updating 00411_4.jpg: label 0 => 3\n",
      "Updating 00642_4.jpg: label 0 => 3\n",
      "Updating 02819_2.jpg: label 0 => 7\n",
      "Updating 02701_3.jpg: label 1 => 0\n",
      "Updating 00140_4.jpg: label 2 => 3\n",
      "Updating 02489_3.jpg: label 2 => 0\n",
      "Updating 02574_7.jpg: label 2 => 0\n",
      "Updating 02282_0.jpg: label 3 => 2\n",
      "Updating 02334_0.jpg: label 3 => 2\n",
      "Updating 00626_1.jpg: label 4 => 1\n",
      "Updating 01561_0.jpg: label 4 => 5\n",
      "Updating 00150_2.jpg: label 5 => 1\n",
      "Updating 00268_0.jpg: label 5 => 4\n",
      "Updating 03525_3.jpg: label 5 => 0\n",
      "Updating 00617_6.jpg: label 6 => 1\n",
      "Updating 01186_6.jpg: label 7 => 2\n",
      "Updating 00164_2.jpg: label 8 => 1\n"
     ]
    }
   ],
   "source": [
    "# txt 파일 업데이트\n",
    "train_txt_path = f\"{image_path}/train_data.txt\"\n",
    "update_labels_txt(train_txt_path, changes_dict)"
   ]
  },
  {
   "cell_type": "code",
   "execution_count": null,
   "id": "53b899d8",
   "metadata": {
    "colab": {
     "base_uri": "https://localhost:8080/"
    },
    "executionInfo": {
     "elapsed": 2,
     "status": "ok",
     "timestamp": 1699949824963,
     "user": {
      "displayName": "김민수",
      "userId": "16980525942188612345"
     },
     "user_tz": -540
    },
    "id": "53b899d8",
    "outputId": "1da07234-4072-4db3-eb4f-4e137aa65499"
   },
   "outputs": [
    {
     "name": "stdout",
     "output_type": "stream",
     "text": [
      "Updating 00527_0.jpg: label 0 => 1\n",
      "Updating 00025_3.jpg: label 2 => 0\n",
      "Updating 02534_5.jpg: label 3 => 8\n",
      "Updating 00895_3.jpg: label 7 => 0\n"
     ]
    }
   ],
   "source": [
    "valid_txt_path = f\"{image_path}/valid_data.txt\"\n",
    "update_labels_txt(valid_txt_path, changes_dict)"
   ]
  },
  {
   "cell_type": "markdown",
   "id": "_4wYdduhnUkB",
   "metadata": {
    "id": "_4wYdduhnUkB"
   },
   "source": [
    "## 수정된 데이터셋 로드"
   ]
  },
  {
   "cell_type": "code",
   "execution_count": null,
   "id": "IvZXhgvNnPe2",
   "metadata": {
    "colab": {
     "base_uri": "https://localhost:8080/",
     "height": 423
    },
    "executionInfo": {
     "elapsed": 270,
     "status": "ok",
     "timestamp": 1699949827784,
     "user": {
      "displayName": "김민수",
      "userId": "16980525942188612345"
     },
     "user_tz": -540
    },
    "id": "IvZXhgvNnPe2",
    "outputId": "34d3dce6-aa9e-4e53-dada-9bec866efef5"
   },
   "outputs": [
    {
     "data": {
      "text/html": [
       "<div>\n",
       "<style scoped>\n",
       "    .dataframe tbody tr th:only-of-type {\n",
       "        vertical-align: middle;\n",
       "    }\n",
       "\n",
       "    .dataframe tbody tr th {\n",
       "        vertical-align: top;\n",
       "    }\n",
       "\n",
       "    .dataframe thead th {\n",
       "        text-align: right;\n",
       "    }\n",
       "</style>\n",
       "<table border=\"1\" class=\"dataframe\">\n",
       "  <thead>\n",
       "    <tr style=\"text-align: right;\">\n",
       "      <th></th>\n",
       "      <th>path</th>\n",
       "      <th>label</th>\n",
       "    </tr>\n",
       "  </thead>\n",
       "  <tbody>\n",
       "    <tr>\n",
       "      <th>0</th>\n",
       "      <td>./dataset/digit_data/0/00001_3.jpg</td>\n",
       "      <td>0</td>\n",
       "    </tr>\n",
       "    <tr>\n",
       "      <th>1</th>\n",
       "      <td>./dataset/digit_data/0/00001_7.jpg</td>\n",
       "      <td>0</td>\n",
       "    </tr>\n",
       "    <tr>\n",
       "      <th>2</th>\n",
       "      <td>./dataset/digit_data/0/00002_3.jpg</td>\n",
       "      <td>0</td>\n",
       "    </tr>\n",
       "    <tr>\n",
       "      <th>3</th>\n",
       "      <td>./dataset/digit_data/0/00003_3.jpg</td>\n",
       "      <td>0</td>\n",
       "    </tr>\n",
       "    <tr>\n",
       "      <th>4</th>\n",
       "      <td>./dataset/digit_data/0/00003_7.jpg</td>\n",
       "      <td>0</td>\n",
       "    </tr>\n",
       "    <tr>\n",
       "      <th>...</th>\n",
       "      <td>...</td>\n",
       "      <td>...</td>\n",
       "    </tr>\n",
       "    <tr>\n",
       "      <th>21784</th>\n",
       "      <td>./dataset/digit_data/9/03817_2.jpg</td>\n",
       "      <td>9</td>\n",
       "    </tr>\n",
       "    <tr>\n",
       "      <th>21785</th>\n",
       "      <td>./dataset/digit_data/9/03817_5.jpg</td>\n",
       "      <td>9</td>\n",
       "    </tr>\n",
       "    <tr>\n",
       "      <th>21786</th>\n",
       "      <td>./dataset/digit_data/9/03857_1.jpg</td>\n",
       "      <td>9</td>\n",
       "    </tr>\n",
       "    <tr>\n",
       "      <th>21787</th>\n",
       "      <td>./dataset/digit_data/9/03857_5.jpg</td>\n",
       "      <td>9</td>\n",
       "    </tr>\n",
       "    <tr>\n",
       "      <th>21788</th>\n",
       "      <td>./dataset/digit_data/9/03896_2.jpg</td>\n",
       "      <td>9</td>\n",
       "    </tr>\n",
       "  </tbody>\n",
       "</table>\n",
       "<p>21789 rows × 2 columns</p>\n",
       "</div>"
      ],
      "text/plain": [
       "                                     path  label\n",
       "0      ./dataset/digit_data/0/00001_3.jpg      0\n",
       "1      ./dataset/digit_data/0/00001_7.jpg      0\n",
       "2      ./dataset/digit_data/0/00002_3.jpg      0\n",
       "3      ./dataset/digit_data/0/00003_3.jpg      0\n",
       "4      ./dataset/digit_data/0/00003_7.jpg      0\n",
       "...                                   ...    ...\n",
       "21784  ./dataset/digit_data/9/03817_2.jpg      9\n",
       "21785  ./dataset/digit_data/9/03817_5.jpg      9\n",
       "21786  ./dataset/digit_data/9/03857_1.jpg      9\n",
       "21787  ./dataset/digit_data/9/03857_5.jpg      9\n",
       "21788  ./dataset/digit_data/9/03896_2.jpg      9\n",
       "\n",
       "[21789 rows x 2 columns]"
      ]
     },
     "execution_count": 30,
     "metadata": {},
     "output_type": "execute_result"
    }
   ],
   "source": [
    "# 학습 데이터셋\n",
    "origin_train_df = pd.read_csv(f\"{image_path}/train_data.txt\", names=[\"path\"])\n",
    "origin_train_df[\"label\"] = origin_train_df[\"path\"].str[0].astype(int)\n",
    "origin_train_df[\"path\"] = image_path + \"/\" + origin_train_df[\"path\"]\n",
    "origin_train_df"
   ]
  },
  {
   "cell_type": "code",
   "execution_count": null,
   "id": "FiFjcMFynPcV",
   "metadata": {
    "colab": {
     "base_uri": "https://localhost:8080/",
     "height": 423
    },
    "executionInfo": {
     "elapsed": 334,
     "status": "ok",
     "timestamp": 1699949829769,
     "user": {
      "displayName": "김민수",
      "userId": "16980525942188612345"
     },
     "user_tz": -540
    },
    "id": "FiFjcMFynPcV",
    "outputId": "e248783c-304f-4682-b575-7e70ea45122b"
   },
   "outputs": [
    {
     "data": {
      "text/html": [
       "<div>\n",
       "<style scoped>\n",
       "    .dataframe tbody tr th:only-of-type {\n",
       "        vertical-align: middle;\n",
       "    }\n",
       "\n",
       "    .dataframe tbody tr th {\n",
       "        vertical-align: top;\n",
       "    }\n",
       "\n",
       "    .dataframe thead th {\n",
       "        text-align: right;\n",
       "    }\n",
       "</style>\n",
       "<table border=\"1\" class=\"dataframe\">\n",
       "  <thead>\n",
       "    <tr style=\"text-align: right;\">\n",
       "      <th></th>\n",
       "      <th>path</th>\n",
       "      <th>label</th>\n",
       "    </tr>\n",
       "  </thead>\n",
       "  <tbody>\n",
       "    <tr>\n",
       "      <th>0</th>\n",
       "      <td>./dataset/digit_data/0/00004_1.jpg</td>\n",
       "      <td>0</td>\n",
       "    </tr>\n",
       "    <tr>\n",
       "      <th>1</th>\n",
       "      <td>./dataset/digit_data/0/00006_3.jpg</td>\n",
       "      <td>0</td>\n",
       "    </tr>\n",
       "    <tr>\n",
       "      <th>2</th>\n",
       "      <td>./dataset/digit_data/0/00007_3.jpg</td>\n",
       "      <td>0</td>\n",
       "    </tr>\n",
       "    <tr>\n",
       "      <th>3</th>\n",
       "      <td>./dataset/digit_data/0/00009_1.jpg</td>\n",
       "      <td>0</td>\n",
       "    </tr>\n",
       "    <tr>\n",
       "      <th>4</th>\n",
       "      <td>./dataset/digit_data/0/00011_7.jpg</td>\n",
       "      <td>0</td>\n",
       "    </tr>\n",
       "    <tr>\n",
       "      <th>...</th>\n",
       "      <td>...</td>\n",
       "      <td>...</td>\n",
       "    </tr>\n",
       "    <tr>\n",
       "      <th>5443</th>\n",
       "      <td>./dataset/digit_data/9/03786_1.jpg</td>\n",
       "      <td>9</td>\n",
       "    </tr>\n",
       "    <tr>\n",
       "      <th>5444</th>\n",
       "      <td>./dataset/digit_data/9/03814_1.jpg</td>\n",
       "      <td>9</td>\n",
       "    </tr>\n",
       "    <tr>\n",
       "      <th>5445</th>\n",
       "      <td>./dataset/digit_data/9/03817_1.jpg</td>\n",
       "      <td>9</td>\n",
       "    </tr>\n",
       "    <tr>\n",
       "      <th>5446</th>\n",
       "      <td>./dataset/digit_data/9/03817_6.jpg</td>\n",
       "      <td>9</td>\n",
       "    </tr>\n",
       "    <tr>\n",
       "      <th>5447</th>\n",
       "      <td>./dataset/digit_data/9/03896_6.jpg</td>\n",
       "      <td>9</td>\n",
       "    </tr>\n",
       "  </tbody>\n",
       "</table>\n",
       "<p>5448 rows × 2 columns</p>\n",
       "</div>"
      ],
      "text/plain": [
       "                                    path  label\n",
       "0     ./dataset/digit_data/0/00004_1.jpg      0\n",
       "1     ./dataset/digit_data/0/00006_3.jpg      0\n",
       "2     ./dataset/digit_data/0/00007_3.jpg      0\n",
       "3     ./dataset/digit_data/0/00009_1.jpg      0\n",
       "4     ./dataset/digit_data/0/00011_7.jpg      0\n",
       "...                                  ...    ...\n",
       "5443  ./dataset/digit_data/9/03786_1.jpg      9\n",
       "5444  ./dataset/digit_data/9/03814_1.jpg      9\n",
       "5445  ./dataset/digit_data/9/03817_1.jpg      9\n",
       "5446  ./dataset/digit_data/9/03817_6.jpg      9\n",
       "5447  ./dataset/digit_data/9/03896_6.jpg      9\n",
       "\n",
       "[5448 rows x 2 columns]"
      ]
     },
     "execution_count": 31,
     "metadata": {},
     "output_type": "execute_result"
    }
   ],
   "source": [
    "# 테스트 데이터셋 (valid_data.txt지만 미리 나눠진 test set으로 사용하도록 하겠음)\n",
    "test_df = pd.read_csv(f\"{image_path}/valid_data.txt\", names=[\"path\"])\n",
    "test_df[\"label\"] = test_df[\"path\"].str[0].astype(int)\n",
    "test_df[\"path\"] = image_path + \"/\" + test_df[\"path\"]\n",
    "test_df"
   ]
  },
  {
   "cell_type": "markdown",
   "id": "eeWCoLWMoCNo",
   "metadata": {
    "id": "eeWCoLWMoCNo"
   },
   "source": [
    "## Train/Valid/Test 데이터셋 분리"
   ]
  },
  {
   "cell_type": "code",
   "execution_count": null,
   "id": "Hw7bhcs7nPaX",
   "metadata": {
    "id": "Hw7bhcs7nPaX"
   },
   "outputs": [],
   "source": [
    "# train 데이터셋을 8:2로 나눠서 valid를 하도록 하겠습니다\n",
    "train_df, valid_df = train_test_split(\n",
    "    origin_train_df,\n",
    "    test_size=0.2,\n",
    "    random_state=0,\n",
    "    shuffle=True,\n",
    "    stratify=origin_train_df[\"label\"],\n",
    ")"
   ]
  },
  {
   "cell_type": "markdown",
   "id": "79kGnZkxoI0O",
   "metadata": {
    "id": "79kGnZkxoI0O"
   },
   "source": [
    "## Data Augmentation & DataLoader 생성\n",
    "\n",
    "이미지 데이터의 수가 불균형하므로 학습 시 모델의 성능 저하가 발생하고 예측의 편향이 발생할 수 있고, Overfitting이 발생할 수 있습니다.\n",
    "\n",
    "데이터의 개수가 적은 4, 5, 7, 8, 9 이미지를 현재 이미지 개수의 평균만큼만 데이터 증강(Data Augmentation)을 수행합니다."
   ]
  },
  {
   "cell_type": "code",
   "execution_count": null,
   "id": "rPyfbVbenPYI",
   "metadata": {
    "id": "rPyfbVbenPYI"
   },
   "outputs": [],
   "source": [
    "# 사용자 정의 데이터셋 클래스 생성 (CustomDataset)\n",
    "class CustomDataset(Dataset):\n",
    "    def __init__(self, dataframe, transform=None):\n",
    "        # 데이터셋 초기화\n",
    "        # dataframe: 이미지 경로와 레이블이 포함된 데이터프레임\n",
    "        # transform: 이미지에 적용할 전처리(transform) 함수\n",
    "        self.dataframe = dataframe\n",
    "        self.transform = transform\n",
    "\n",
    "    def __len__(self):\n",
    "        # 데이터셋의 총 샘플 수 반환\n",
    "        return len(self.dataframe)\n",
    "\n",
    "    def __getitem__(self, idx):\n",
    "        # 주어진 인덱스(idx)에 해당하는 샘플을 반환\n",
    "        # 이미지 경로를 데이터프레임에서 가져옴\n",
    "        img_name = self.dataframe.iloc[idx, 0]\n",
    "        # 이미지 파일을 열고 RGB 모드로 변환\n",
    "        img = Image.open(img_name).convert('RGB')\n",
    "        # 레이블 정보를 정수형으로 가져옴\n",
    "        label = int(self.dataframe.iloc[idx, 1])\n",
    "\n",
    "        # transform이 지정되어 있다면 이미지에 전처리를 적용\n",
    "        if self.transform:\n",
    "            img = self.transform(img)\n",
    "\n",
    "        # 이미지와 레이블을 반환\n",
    "        return img, label"
   ]
  },
  {
   "cell_type": "code",
   "execution_count": null,
   "id": "NkMoDPTKnPQR",
   "metadata": {
    "id": "NkMoDPTKnPQR"
   },
   "outputs": [],
   "source": [
    "# 특정 레이블을 가진 데이터만 포함하는 AugmentedDataset 클래스 생성\n",
    "class AugmentedDataset(Dataset):\n",
    "    def __init__(self, dataframe, transform=None):\n",
    "        # 데이터프레임에서 특정 레이블(4, 5, 7, 8, 9)만 필터링하여 데이터셋 생성\n",
    "        self.dataframe = dataframe[dataframe['label'].isin([4, 5, 7, 8, 9])]\n",
    "        self.transform = transform\n",
    "\n",
    "    def __len__(self):\n",
    "        # 데이터셋의 총 샘플 수 반환\n",
    "        return len(self.dataframe)\n",
    "\n",
    "    def __getitem__(self, idx):\n",
    "        # 주어진 인덱스(idx)에 해당하는 샘플을 반환\n",
    "        # 이미지 경로를 데이터프레임에서 가져옴\n",
    "        img_name = self.dataframe.iloc[idx, 0]\n",
    "        # 이미지 파일을 열고 RGB 모드로 변환\n",
    "        img = Image.open(img_name).convert('RGB')\n",
    "        # 레이블 정보를 정수형으로 가져옴\n",
    "        label = int(self.dataframe.iloc[idx, 1])\n",
    "\n",
    "        # transform이 지정되어 있다면 이미지에 전처리를 적용\n",
    "        if self.transform:\n",
    "            img = self.transform(img)\n",
    "\n",
    "        # 이미지와 레이블을 반환\n",
    "        return img, label"
   ]
  },
  {
   "cell_type": "code",
   "execution_count": null,
   "id": "8dkbkk4boRMP",
   "metadata": {
    "id": "8dkbkk4boRMP"
   },
   "outputs": [],
   "source": [
    "# 데이터 전처리(transform) 정의\n",
    "transform = transforms.Compose([\n",
    "    transforms.Resize((224, 224)),  # 이미지를 224x224로 리사이즈\n",
    "    transforms.ToTensor(),  # 이미지를 텐서로 변환 (0-255 값을 0-1 범위로 변환)\n",
    "    transforms.Normalize(mean=normalized_channel_means, std=normalized_channel_stds),  # 채널별 평균과 표준편차로 정규화\n",
    "])\n",
    "\n",
    "# 데이터 증강을 위한 transform 정의\n",
    "augment_transform = transforms.Compose([\n",
    "    transforms.Resize((224, 224)),  # 이미지를 224x224로 리사이즈\n",
    "    transforms.RandomRotation(10),  # 이미지를 -10도에서 10도 사이로 랜덤 회전\n",
    "    transforms.ToTensor(),  # 이미지를 텐서로 변환\n",
    "    transforms.Normalize(mean=normalized_channel_means, std=normalized_channel_stds),  # 채널별 평균과 표준편차로 정규화\n",
    "])\n",
    "\n",
    "# 배치 사이즈 설정\n",
    "batch_size = 256  # 한 번에 처리할 데이터의 개수"
   ]
  },
  {
   "cell_type": "code",
   "execution_count": null,
   "id": "DuMftwWBoRKJ",
   "metadata": {
    "id": "DuMftwWBoRKJ"
   },
   "outputs": [],
   "source": [
    "# CustomDataset 인스턴스 생성 (기본 학습 데이터셋)\n",
    "train_dataset = CustomDataset(train_df, transform=transform)\n",
    "# AugmentedDataset 인스턴스 생성 (증강된 학습 데이터셋)\n",
    "augmented_dataset = AugmentedDataset(train_df, transform=augment_transform)\n",
    "\n",
    "# 기본 학습 데이터셋과 증강된 데이터셋을 결합하여 하나의 데이터셋으로 생성\n",
    "combined_train_dataset = ConcatDataset([train_dataset, augmented_dataset])"
   ]
  },
  {
   "cell_type": "code",
   "execution_count": null,
   "id": "6Nsfka_moRHr",
   "metadata": {
    "id": "6Nsfka_moRHr"
   },
   "outputs": [],
   "source": [
    "# DataLoader 생성 (학습, 검증, 테스트 데이터셋)\n",
    "train_loader = DataLoader(combined_train_dataset, batch_size=batch_size, shuffle=True, num_workers=4)  # 학습 데이터 로더 (데이터 섞기 활성화)\n",
    "valid_loader = DataLoader(CustomDataset(valid_df, transform=transform), batch_size=batch_size, shuffle=True, num_workers=4)  # 검증 데이터 로더\n",
    "test_loader = DataLoader(CustomDataset(test_df, transform=transform), batch_size=batch_size, shuffle=False, num_workers=4)  # 테스트 데이터 로더 (데이터 섞기 비활성화)"
   ]
  },
  {
   "cell_type": "code",
   "execution_count": null,
   "id": "Tpoqef2_oUaC",
   "metadata": {
    "id": "Tpoqef2_oUaC"
   },
   "outputs": [],
   "source": [
    "## ResNet 모델 학습"
   ]
  },
  {
   "cell_type": "code",
   "execution_count": null,
   "id": "g6Q_XbLxoUX1",
   "metadata": {
    "colab": {
     "base_uri": "https://localhost:8080/",
     "height": 493
    },
    "executionInfo": {
     "elapsed": 564,
     "status": "error",
     "timestamp": 1699949878223,
     "user": {
      "displayName": "김민수",
      "userId": "16980525942188612345"
     },
     "user_tz": -540
    },
    "id": "g6Q_XbLxoUX1",
    "outputId": "b0bba899-13d3-40b5-af55-e020fe700eab"
   },
   "outputs": [
    {
     "name": "stderr",
     "output_type": "stream",
     "text": [
      "/usr/local/lib/python3.7/dist-packages/torchvision/models/_utils.py:209: UserWarning: The parameter 'pretrained' is deprecated since 0.13 and may be removed in the future, please use 'weights' instead.\n",
      "  f\"The parameter '{pretrained_param}' is deprecated since 0.13 and may be removed in the future, \"\n",
      "/usr/local/lib/python3.7/dist-packages/torchvision/models/_utils.py:223: UserWarning: Arguments other than a weight enum or `None` for 'weights' are deprecated since 0.13 and may be removed in the future. The current behavior is equivalent to passing `weights=ResNet18_Weights.IMAGENET1K_V1`. You can also use `weights=ResNet18_Weights.DEFAULT` to get the most up-to-date weights.\n",
      "  warnings.warn(msg)\n"
     ]
    }
   ],
   "source": [
    "# 사전 학습된 ResNet18 모델 불러오기\n",
    "model = models.resnet18(pretrained=True)\n",
    "\n",
    "# 모델의 마지막 완전 연결 계층(fc)을 사용자 정의 계층으로 대체\n",
    "# 이 계층은 in_features에서 10개의 출력으로 매핑합니다 (10개 클래스 분류를 위함)\n",
    "model.fc = nn.Sequential(\n",
    "    nn.Linear(model.fc.in_features, 10),\n",
    ")\n",
    "\n",
    "class_counts = train_df['label'].value_counts().sort_index().values\n",
    "\n",
    "augmented_labels = [4, 5, 7, 8, 9]\n",
    "class_counts[augmented_labels] = class_counts[augmented_labels] * 2\n",
    "\n",
    "weights = [1 / class_count for class_count in class_counts]\n",
    "class_weights = torch.FloatTensor(weights).cuda()\n",
    "\n",
    "criterion = nn.CrossEntropyLoss(weight=class_weights)\n",
    "optimizer = torch.optim.Adam(model.parameters(), lr=1e-5, weight_decay=1e-5)\n",
    "\n",
    "device = torch.device(\"cuda\" if torch.cuda.is_available() else \"cpu\")\n",
    "model = model.to(device)"
   ]
  },
  {
   "cell_type": "code",
   "execution_count": null,
   "id": "xaXN5_jZoQ_Q",
   "metadata": {
    "id": "xaXN5_jZoQ_Q",
    "outputId": "60662d27-446c-4917-fd3a-37ab3f8066a7"
   },
   "outputs": [
    {
     "name": "stderr",
     "output_type": "stream",
     "text": [
      "Epoch 1/50: 100%|██████████| 21/21 [00:32<00:00,  1.53s/it]\n"
     ]
    },
    {
     "name": "stdout",
     "output_type": "stream",
     "text": [
      "Train Loss: 2.1961, Train Accuracy: 0.1828, Validation Loss: 2.0223, Validation Accuracy: 0.2999\n"
     ]
    },
    {
     "name": "stderr",
     "output_type": "stream",
     "text": [
      "Epoch 2/50: 100%|██████████| 21/21 [00:32<00:00,  1.54s/it]\n"
     ]
    },
    {
     "name": "stdout",
     "output_type": "stream",
     "text": [
      "Train Loss: 1.7645, Train Accuracy: 0.4246, Validation Loss: 1.6268, Validation Accuracy: 0.5202\n"
     ]
    },
    {
     "name": "stderr",
     "output_type": "stream",
     "text": [
      "Epoch 3/50: 100%|██████████| 21/21 [00:32<00:00,  1.53s/it]\n"
     ]
    },
    {
     "name": "stdout",
     "output_type": "stream",
     "text": [
      "Train Loss: 1.4034, Train Accuracy: 0.6086, Validation Loss: 1.3011, Validation Accuracy: 0.6583\n"
     ]
    },
    {
     "name": "stderr",
     "output_type": "stream",
     "text": [
      "Epoch 4/50: 100%|██████████| 21/21 [00:32<00:00,  1.54s/it]\n"
     ]
    },
    {
     "name": "stdout",
     "output_type": "stream",
     "text": [
      "Train Loss: 1.1005, Train Accuracy: 0.7387, Validation Loss: 1.0421, Validation Accuracy: 0.7632\n"
     ]
    },
    {
     "name": "stderr",
     "output_type": "stream",
     "text": [
      "Epoch 5/50: 100%|██████████| 21/21 [00:32<00:00,  1.53s/it]\n"
     ]
    },
    {
     "name": "stdout",
     "output_type": "stream",
     "text": [
      "Train Loss: 0.8541, Train Accuracy: 0.8256, Validation Loss: 0.8000, Validation Accuracy: 0.8398\n"
     ]
    },
    {
     "name": "stderr",
     "output_type": "stream",
     "text": [
      "Epoch 6/50: 100%|██████████| 21/21 [00:32<00:00,  1.53s/it]\n"
     ]
    },
    {
     "name": "stdout",
     "output_type": "stream",
     "text": [
      "Train Loss: 0.6497, Train Accuracy: 0.8779, Validation Loss: 0.6262, Validation Accuracy: 0.8850\n"
     ]
    },
    {
     "name": "stderr",
     "output_type": "stream",
     "text": [
      "Epoch 7/50: 100%|██████████| 21/21 [00:32<00:00,  1.53s/it]\n"
     ]
    },
    {
     "name": "stdout",
     "output_type": "stream",
     "text": [
      "Train Loss: 0.4918, Train Accuracy: 0.9118, Validation Loss: 0.4855, Validation Accuracy: 0.9119\n"
     ]
    },
    {
     "name": "stderr",
     "output_type": "stream",
     "text": [
      "Epoch 8/50: 100%|██████████| 21/21 [00:32<00:00,  1.54s/it]\n"
     ]
    },
    {
     "name": "stdout",
     "output_type": "stream",
     "text": [
      "Train Loss: 0.3787, Train Accuracy: 0.9327, Validation Loss: 0.3751, Validation Accuracy: 0.9302\n"
     ]
    },
    {
     "name": "stderr",
     "output_type": "stream",
     "text": [
      "Epoch 9/50: 100%|██████████| 21/21 [00:32<00:00,  1.54s/it]\n"
     ]
    },
    {
     "name": "stdout",
     "output_type": "stream",
     "text": [
      "Train Loss: 0.2984, Train Accuracy: 0.9465, Validation Loss: 0.3162, Validation Accuracy: 0.9436\n"
     ]
    },
    {
     "name": "stderr",
     "output_type": "stream",
     "text": [
      "Epoch 10/50: 100%|██████████| 21/21 [00:32<00:00,  1.54s/it]\n"
     ]
    },
    {
     "name": "stdout",
     "output_type": "stream",
     "text": [
      "Train Loss: 0.2402, Train Accuracy: 0.9577, Validation Loss: 0.2613, Validation Accuracy: 0.9525\n"
     ]
    },
    {
     "name": "stderr",
     "output_type": "stream",
     "text": [
      "Epoch 11/50: 100%|██████████| 21/21 [00:32<00:00,  1.54s/it]\n"
     ]
    },
    {
     "name": "stdout",
     "output_type": "stream",
     "text": [
      "Train Loss: 0.1980, Train Accuracy: 0.9661, Validation Loss: 0.2280, Validation Accuracy: 0.9580\n"
     ]
    },
    {
     "name": "stderr",
     "output_type": "stream",
     "text": [
      "Epoch 12/50: 100%|██████████| 21/21 [00:32<00:00,  1.53s/it]\n"
     ]
    },
    {
     "name": "stdout",
     "output_type": "stream",
     "text": [
      "Train Loss: 0.1658, Train Accuracy: 0.9712, Validation Loss: 0.1984, Validation Accuracy: 0.9598\n"
     ]
    },
    {
     "name": "stderr",
     "output_type": "stream",
     "text": [
      "Epoch 13/50: 100%|██████████| 21/21 [00:32<00:00,  1.53s/it]\n"
     ]
    },
    {
     "name": "stdout",
     "output_type": "stream",
     "text": [
      "Train Loss: 0.1412, Train Accuracy: 0.9759, Validation Loss: 0.1740, Validation Accuracy: 0.9633\n"
     ]
    },
    {
     "name": "stderr",
     "output_type": "stream",
     "text": [
      "Epoch 14/50: 100%|██████████| 21/21 [00:32<00:00,  1.53s/it]\n"
     ]
    },
    {
     "name": "stdout",
     "output_type": "stream",
     "text": [
      "Train Loss: 0.1230, Train Accuracy: 0.9797, Validation Loss: 0.1623, Validation Accuracy: 0.9672\n"
     ]
    },
    {
     "name": "stderr",
     "output_type": "stream",
     "text": [
      "Epoch 15/50: 100%|██████████| 21/21 [00:32<00:00,  1.53s/it]\n"
     ]
    },
    {
     "name": "stdout",
     "output_type": "stream",
     "text": [
      "Train Loss: 0.1075, Train Accuracy: 0.9820, Validation Loss: 0.1424, Validation Accuracy: 0.9683\n"
     ]
    },
    {
     "name": "stderr",
     "output_type": "stream",
     "text": [
      "Epoch 16/50: 100%|██████████| 21/21 [00:32<00:00,  1.53s/it]\n"
     ]
    },
    {
     "name": "stdout",
     "output_type": "stream",
     "text": [
      "Train Loss: 0.0960, Train Accuracy: 0.9841, Validation Loss: 0.1376, Validation Accuracy: 0.9709\n"
     ]
    },
    {
     "name": "stderr",
     "output_type": "stream",
     "text": [
      "Epoch 17/50: 100%|██████████| 21/21 [00:32<00:00,  1.53s/it]\n"
     ]
    },
    {
     "name": "stdout",
     "output_type": "stream",
     "text": [
      "Train Loss: 0.0848, Train Accuracy: 0.9865, Validation Loss: 0.1215, Validation Accuracy: 0.9722\n"
     ]
    },
    {
     "name": "stderr",
     "output_type": "stream",
     "text": [
      "Epoch 18/50: 100%|██████████| 21/21 [00:32<00:00,  1.54s/it]\n"
     ]
    },
    {
     "name": "stdout",
     "output_type": "stream",
     "text": [
      "Train Loss: 0.0761, Train Accuracy: 0.9878, Validation Loss: 0.1209, Validation Accuracy: 0.9736\n"
     ]
    },
    {
     "name": "stderr",
     "output_type": "stream",
     "text": [
      "Epoch 19/50: 100%|██████████| 21/21 [00:32<00:00,  1.53s/it]\n"
     ]
    },
    {
     "name": "stdout",
     "output_type": "stream",
     "text": [
      "Train Loss: 0.0682, Train Accuracy: 0.9892, Validation Loss: 0.1140, Validation Accuracy: 0.9757\n"
     ]
    },
    {
     "name": "stderr",
     "output_type": "stream",
     "text": [
      "Epoch 20/50: 100%|██████████| 21/21 [00:32<00:00,  1.53s/it]\n"
     ]
    },
    {
     "name": "stdout",
     "output_type": "stream",
     "text": [
      "Train Loss: 0.0616, Train Accuracy: 0.9911, Validation Loss: 0.1121, Validation Accuracy: 0.9754\n"
     ]
    },
    {
     "name": "stderr",
     "output_type": "stream",
     "text": [
      "Epoch 21/50: 100%|██████████| 21/21 [00:32<00:00,  1.53s/it]\n"
     ]
    },
    {
     "name": "stdout",
     "output_type": "stream",
     "text": [
      "Train Loss: 0.0563, Train Accuracy: 0.9921, Validation Loss: 0.1030, Validation Accuracy: 0.9768\n"
     ]
    },
    {
     "name": "stderr",
     "output_type": "stream",
     "text": [
      "Epoch 22/50: 100%|██████████| 21/21 [00:32<00:00,  1.53s/it]\n"
     ]
    },
    {
     "name": "stdout",
     "output_type": "stream",
     "text": [
      "Train Loss: 0.0505, Train Accuracy: 0.9922, Validation Loss: 0.0935, Validation Accuracy: 0.9771\n"
     ]
    },
    {
     "name": "stderr",
     "output_type": "stream",
     "text": [
      "Epoch 23/50: 100%|██████████| 21/21 [00:32<00:00,  1.53s/it]\n"
     ]
    },
    {
     "name": "stdout",
     "output_type": "stream",
     "text": [
      "Train Loss: 0.0466, Train Accuracy: 0.9935, Validation Loss: 0.0960, Validation Accuracy: 0.9782\n"
     ]
    },
    {
     "name": "stderr",
     "output_type": "stream",
     "text": [
      "Epoch 24/50: 100%|██████████| 21/21 [00:32<00:00,  1.54s/it]\n"
     ]
    },
    {
     "name": "stdout",
     "output_type": "stream",
     "text": [
      "Train Loss: 0.0426, Train Accuracy: 0.9942, Validation Loss: 0.0910, Validation Accuracy: 0.9798\n"
     ]
    },
    {
     "name": "stderr",
     "output_type": "stream",
     "text": [
      "Epoch 25/50: 100%|██████████| 21/21 [00:32<00:00,  1.53s/it]\n"
     ]
    },
    {
     "name": "stdout",
     "output_type": "stream",
     "text": [
      "Train Loss: 0.0397, Train Accuracy: 0.9943, Validation Loss: 0.0840, Validation Accuracy: 0.9803\n"
     ]
    },
    {
     "name": "stderr",
     "output_type": "stream",
     "text": [
      "Epoch 26/50: 100%|██████████| 21/21 [00:32<00:00,  1.54s/it]\n"
     ]
    },
    {
     "name": "stdout",
     "output_type": "stream",
     "text": [
      "Train Loss: 0.0363, Train Accuracy: 0.9952, Validation Loss: 0.0862, Validation Accuracy: 0.9800\n"
     ]
    },
    {
     "name": "stderr",
     "output_type": "stream",
     "text": [
      "Epoch 27/50: 100%|██████████| 21/21 [00:32<00:00,  1.52s/it]\n"
     ]
    },
    {
     "name": "stdout",
     "output_type": "stream",
     "text": [
      "Train Loss: 0.0340, Train Accuracy: 0.9959, Validation Loss: 0.0840, Validation Accuracy: 0.9812\n"
     ]
    },
    {
     "name": "stderr",
     "output_type": "stream",
     "text": [
      "Epoch 28/50: 100%|██████████| 21/21 [00:32<00:00,  1.53s/it]\n"
     ]
    },
    {
     "name": "stdout",
     "output_type": "stream",
     "text": [
      "Train Loss: 0.0313, Train Accuracy: 0.9962, Validation Loss: 0.0853, Validation Accuracy: 0.9805\n"
     ]
    },
    {
     "name": "stderr",
     "output_type": "stream",
     "text": [
      "Epoch 29/50: 100%|██████████| 21/21 [00:32<00:00,  1.53s/it]\n"
     ]
    },
    {
     "name": "stdout",
     "output_type": "stream",
     "text": [
      "Train Loss: 0.0286, Train Accuracy: 0.9970, Validation Loss: 0.0859, Validation Accuracy: 0.9821\n"
     ]
    },
    {
     "name": "stderr",
     "output_type": "stream",
     "text": [
      "Epoch 30/50: 100%|██████████| 21/21 [00:32<00:00,  1.53s/it]\n"
     ]
    },
    {
     "name": "stdout",
     "output_type": "stream",
     "text": [
      "Train Loss: 0.0263, Train Accuracy: 0.9969, Validation Loss: 0.0850, Validation Accuracy: 0.9807\n"
     ]
    },
    {
     "name": "stderr",
     "output_type": "stream",
     "text": [
      "Epoch 31/50: 100%|██████████| 21/21 [00:32<00:00,  1.53s/it]\n"
     ]
    },
    {
     "name": "stdout",
     "output_type": "stream",
     "text": [
      "Train Loss: 0.0251, Train Accuracy: 0.9973, Validation Loss: 0.0739, Validation Accuracy: 0.9823\n"
     ]
    },
    {
     "name": "stderr",
     "output_type": "stream",
     "text": [
      "Epoch 32/50: 100%|██████████| 21/21 [00:32<00:00,  1.54s/it]\n"
     ]
    },
    {
     "name": "stdout",
     "output_type": "stream",
     "text": [
      "Train Loss: 0.0228, Train Accuracy: 0.9978, Validation Loss: 0.0747, Validation Accuracy: 0.9819\n"
     ]
    },
    {
     "name": "stderr",
     "output_type": "stream",
     "text": [
      "Epoch 33/50: 100%|██████████| 21/21 [00:32<00:00,  1.54s/it]\n"
     ]
    },
    {
     "name": "stdout",
     "output_type": "stream",
     "text": [
      "Train Loss: 0.0218, Train Accuracy: 0.9982, Validation Loss: 0.0733, Validation Accuracy: 0.9830\n"
     ]
    },
    {
     "name": "stderr",
     "output_type": "stream",
     "text": [
      "Epoch 34/50: 100%|██████████| 21/21 [00:32<00:00,  1.53s/it]\n"
     ]
    },
    {
     "name": "stdout",
     "output_type": "stream",
     "text": [
      "Train Loss: 0.0198, Train Accuracy: 0.9983, Validation Loss: 0.0804, Validation Accuracy: 0.9830\n"
     ]
    },
    {
     "name": "stderr",
     "output_type": "stream",
     "text": [
      "Epoch 35/50: 100%|██████████| 21/21 [00:32<00:00,  1.53s/it]\n"
     ]
    },
    {
     "name": "stdout",
     "output_type": "stream",
     "text": [
      "Train Loss: 0.0190, Train Accuracy: 0.9983, Validation Loss: 0.0749, Validation Accuracy: 0.9832\n"
     ]
    },
    {
     "name": "stderr",
     "output_type": "stream",
     "text": [
      "Epoch 36/50: 100%|██████████| 21/21 [00:32<00:00,  1.53s/it]\n"
     ]
    },
    {
     "name": "stdout",
     "output_type": "stream",
     "text": [
      "Train Loss: 0.0179, Train Accuracy: 0.9985, Validation Loss: 0.0749, Validation Accuracy: 0.9835\n"
     ]
    },
    {
     "name": "stderr",
     "output_type": "stream",
     "text": [
      "Epoch 37/50: 100%|██████████| 21/21 [00:32<00:00,  1.53s/it]\n"
     ]
    },
    {
     "name": "stdout",
     "output_type": "stream",
     "text": [
      "Train Loss: 0.0166, Train Accuracy: 0.9989, Validation Loss: 0.0773, Validation Accuracy: 0.9835\n"
     ]
    },
    {
     "name": "stderr",
     "output_type": "stream",
     "text": [
      "Epoch 38/50: 100%|██████████| 21/21 [00:32<00:00,  1.54s/it]\n"
     ]
    },
    {
     "name": "stdout",
     "output_type": "stream",
     "text": [
      "Train Loss: 0.0157, Train Accuracy: 0.9986, Validation Loss: 0.0699, Validation Accuracy: 0.9832\n"
     ]
    },
    {
     "name": "stderr",
     "output_type": "stream",
     "text": [
      "Epoch 39/50: 100%|██████████| 21/21 [00:32<00:00,  1.54s/it]\n"
     ]
    },
    {
     "name": "stdout",
     "output_type": "stream",
     "text": [
      "Train Loss: 0.0149, Train Accuracy: 0.9990, Validation Loss: 0.0653, Validation Accuracy: 0.9837\n"
     ]
    },
    {
     "name": "stderr",
     "output_type": "stream",
     "text": [
      "Epoch 40/50: 100%|██████████| 21/21 [00:32<00:00,  1.53s/it]\n"
     ]
    },
    {
     "name": "stdout",
     "output_type": "stream",
     "text": [
      "Train Loss: 0.0141, Train Accuracy: 0.9990, Validation Loss: 0.0716, Validation Accuracy: 0.9837\n"
     ]
    },
    {
     "name": "stderr",
     "output_type": "stream",
     "text": [
      "Epoch 41/50: 100%|██████████| 21/21 [00:32<00:00,  1.54s/it]\n"
     ]
    },
    {
     "name": "stdout",
     "output_type": "stream",
     "text": [
      "Train Loss: 0.0132, Train Accuracy: 0.9992, Validation Loss: 0.0715, Validation Accuracy: 0.9835\n"
     ]
    },
    {
     "name": "stderr",
     "output_type": "stream",
     "text": [
      "Epoch 42/50: 100%|██████████| 21/21 [00:32<00:00,  1.53s/it]\n"
     ]
    },
    {
     "name": "stdout",
     "output_type": "stream",
     "text": [
      "Train Loss: 0.0127, Train Accuracy: 0.9992, Validation Loss: 0.0703, Validation Accuracy: 0.9837\n"
     ]
    },
    {
     "name": "stderr",
     "output_type": "stream",
     "text": [
      "Epoch 43/50: 100%|██████████| 21/21 [00:32<00:00,  1.53s/it]\n"
     ]
    },
    {
     "name": "stdout",
     "output_type": "stream",
     "text": [
      "Train Loss: 0.0118, Train Accuracy: 0.9992, Validation Loss: 0.0736, Validation Accuracy: 0.9837\n"
     ]
    },
    {
     "name": "stderr",
     "output_type": "stream",
     "text": [
      "Epoch 44/50: 100%|██████████| 21/21 [00:32<00:00,  1.53s/it]\n"
     ]
    },
    {
     "name": "stdout",
     "output_type": "stream",
     "text": [
      "Train Loss: 0.0110, Train Accuracy: 0.9993, Validation Loss: 0.0761, Validation Accuracy: 0.9837\n",
      "Early stopping\n",
      "Finished Training\n"
     ]
    }
   ],
   "source": [
    "# 전체 훈련 횟수 설정\n",
    "num_epochs = 50\n",
    "# 최고 검증 정확도 초기화\n",
    "best_val_acc = 0.0\n",
    "# 얼리 스타핑을 위한 조건 설정 (성능 향상이 없을 때 몇 에포크까지 기다릴지)\n",
    "patience = 5\n",
    "# 연속적으로 성능 향상이 없는 에포크 수를 추적\n",
    "no_improve = 0\n",
    "\n",
    "# 훈련 및 검증 손실을 추적하기 위한 리스트\n",
    "train_losses = []\n",
    "valid_losses = []\n",
    "\n",
    "# 정해진 훈련 횟수만큼 반복\n",
    "for epoch in range(num_epochs):\n",
    "\n",
    "    model.train() # 모델을 훈련 모드로 설정\n",
    "    running_loss = 0.0\n",
    "    correct_train = 0\n",
    "    total_train = 0\n",
    "\n",
    "     # 훈련 데이터 로더를 통해 배치를 반복\n",
    "    for inputs, labels in tqdm(train_loader, desc=f\"Epoch {epoch+1}/{num_epochs}\", dynamic_ncols=True):\n",
    "        inputs, labels = inputs.to(device), labels.to(device)\n",
    "\n",
    "        optimizer.zero_grad() # 이전 반복에서 계산된 그래디언트를 초기화\n",
    "        outputs = model(inputs) # 모델에 입력을 전달하여 출력을 계산\n",
    "        loss = criterion(outputs, labels) # 손실 함수를 사용하여 손실 계산\n",
    "        loss.backward() # 손실에 대한 그래디언트를 계산\n",
    "        optimizer.step() # 옵티마이저를 사용하여 모델의 가중치를 업데이트\n",
    "\n",
    "        running_loss += loss.item()  # 총 손실을 누적\n",
    "\n",
    "        _, predicted = torch.max(outputs.data, 1) # 예측 결과 계산\n",
    "        total_train += labels.size(0) # 전체 레이블 수 업데이트\n",
    "        correct_train += (predicted == labels).sum().item() # 정확한 예측 수 업데이트\n",
    "\n",
    "    # 에포크별 훈련 정확도 및 손실 계산\n",
    "    train_acc = correct_train / total_train\n",
    "    train_loss = running_loss / len(train_loader)\n",
    "\n",
    "    # Validate\n",
    "    model.eval()\n",
    "    running_val_loss = 0.0\n",
    "    correct_val = 0\n",
    "    total_val = 0\n",
    "    with torch.no_grad():\n",
    "        for inputs, labels in valid_loader:\n",
    "            inputs, labels = inputs.to(device), labels.to(device)\n",
    "            outputs = model(inputs)\n",
    "            loss = criterion(outputs, labels)\n",
    "\n",
    "            running_val_loss += loss.item()\n",
    "\n",
    "            _, predicted = torch.max(outputs.data, 1)\n",
    "            total_val += labels.size(0)\n",
    "            correct_val += (predicted == labels).sum().item()\n",
    "\n",
    "    val_acc = correct_val / total_val\n",
    "    val_loss = running_val_loss / len(valid_loader)\n",
    "\n",
    "    # 손실 기록\n",
    "    train_losses.append(train_loss)\n",
    "    valid_losses.append(val_loss)\n",
    "\n",
    "    print(f'Train Loss: {train_loss:.4f}, Train Accuracy: {train_acc:.4f}, '\n",
    "          f'Validation Loss: {val_loss:.4f}, Validation Accuracy: {val_acc:.4f}')\n",
    "\n",
    "    # 최고 검증 정확도를 갱신하고 모델 저장\n",
    "    if val_acc > best_val_acc:\n",
    "        best_val_acc = val_acc\n",
    "        torch.save(model.state_dict(), 'best_model_after.pth')\n",
    "        no_improve = 0\n",
    "    else:\n",
    "        no_improve += 1 # 성능 향상이 없으면 no_improve 카운터 증가\n",
    "        if no_improve >= patience:  # 설정한 얼리 스타핑 patience에 도달하면 학습을 중단합니다.\n",
    "            print(\"Early stopping\")\n",
    "            break\n",
    "\n",
    "print('Finished Training')"
   ]
  },
  {
   "cell_type": "code",
   "execution_count": null,
   "id": "wPssYf8Tod32",
   "metadata": {
    "id": "wPssYf8Tod32",
    "outputId": "f367bd88-28c3-4b0d-e62f-b7a7b7d8aac5"
   },
   "outputs": [
    {
     "data": {
      "text/plain": [
       "<All keys matched successfully>"
      ]
     },
     "execution_count": 41,
     "metadata": {},
     "output_type": "execute_result"
    }
   ],
   "source": [
    "model.load_state_dict(torch.load('best_model_after.pth'))"
   ]
  },
  {
   "cell_type": "code",
   "execution_count": null,
   "id": "kdnDrwfbodvf",
   "metadata": {
    "id": "kdnDrwfbodvf"
   },
   "outputs": [],
   "source": [
    "# Validate\n",
    "all_labels = []\n",
    "all_predictions = []\n",
    "with torch.no_grad():\n",
    "    for inputs, labels in valid_loader:\n",
    "        inputs, labels = inputs.to(device), labels.to(device)\n",
    "        outputs = model(inputs)\n",
    "        _, predicted = torch.max(outputs.data, 1)\n",
    "\n",
    "        all_labels.append(labels.cpu().numpy())\n",
    "        all_predictions.append(predicted.cpu().numpy())\n",
    "\n",
    "all_labels = np.concatenate(all_labels)\n",
    "all_predictions = np.concatenate(all_predictions)\n",
    "\n",
    "conf_mat = confusion_matrix(all_labels, all_predictions)\n",
    "conf_mat_normalized = conf_mat.astype('float') / conf_mat.sum(axis=1)[:, np.newaxis]"
   ]
  },
  {
   "cell_type": "markdown",
   "id": "ZjIREz8xl8pp",
   "metadata": {
    "id": "ZjIREz8xl8pp"
   },
   "source": [
    "### 혼동행렬로 시각화\n",
    "- 이 혼동행렬 히트맵은 모델이 0부터 9까지의 숫자를 얼마나 잘 분류하는지를 보여줍니다.\n",
    "- 각 행은 실제 라벨을, 각 열은 모델이 예측한 라벨을 나타냅니다.\n",
    "- 대각선 상의 값이 높으면 높을수록 모델의 예측 정확도가 높음을 의미합니다.\n",
    "- 이 히트맵에서는 모든 클래스(0~9)가 95% 이상의 높은 정확도로 잘 예측되었음을 확인할 수 있습니다.\n",
    "- 이는 모델이 각 클래스를 정확하게 분류하는 데 효과적임을 나타냅니다."
   ]
  },
  {
   "cell_type": "code",
   "execution_count": null,
   "id": "2-SGevfxods1",
   "metadata": {
    "id": "2-SGevfxods1",
    "outputId": "1755eb6e-9728-4df9-c369-0a1830330eb8"
   },
   "outputs": [
    {
     "data": {
      "image/png": "[encoded data removed]",
      "text/plain": [
       "<Figure size 800x800 with 2 Axes>"
      ]
     },
     "metadata": {},
     "output_type": "display_data"
    }
   ],
   "source": [
    "plt.figure(figsize=(8, 8))\n",
    "sns.heatmap(conf_mat_normalized, annot=True, cmap='Blues')\n",
    "plt.xlabel('Predicted')\n",
    "plt.ylabel('True')\n",
    "plt.title('Normalized Confusion Matrix')\n",
    "plt.show()"
   ]
  },
  {
   "cell_type": "markdown",
   "id": "4UDEwzQPoiuh",
   "metadata": {
    "id": "4UDEwzQPoiuh"
   },
   "source": [
    "### Loss 시각화\n",
    " - 이 그래프는 학습 과정에서의 train loss와 validation loss의 변화를 보여줍니다.\n",
    " - x축은 에포크를, y축은 손실 값을 나타냅니다.\n",
    " - train loss는 모델이 훈련 데이터에 얼마나 잘 맞는지를 나타내며, validation loss는 모델이 보지 못한 데이터에 대한 성능을 나타냅니다.\n",
    " - 두 손실 모두 시간이 지남에 따라 안정적으로 감소하는 추세를 보이면, 이는 모델이 제대로 학습되고 있음을 의미합니다.\n",
    " - 급격한 변동이나 높은 손실 값이 지속되지 않는 것은 모델이 과적합 없이 일반화 능력을 갖추고 있음을 시사합니다."
   ]
  },
  {
   "cell_type": "code",
   "execution_count": null,
   "id": "if_JRWMiojGT",
   "metadata": {
    "id": "if_JRWMiojGT",
    "outputId": "49a489a8-7cca-432c-af3c-1588d984ff83"
   },
   "outputs": [
    {
     "data": {
      "image/png": "[encoded data removed]",
      "text/plain": [
       "<Figure size 1200x400 with 2 Axes>"
      ]
     },
     "metadata": {},
     "output_type": "display_data"
    }
   ],
   "source": [
    "actual_epochs = len(train_losses)\n",
    "\n",
    "fig, axes = plt.subplots(1, 2, figsize=(12, 4))\n",
    "\n",
    "# Train Loss 그래프\n",
    "axes[0].plot(range(1, actual_epochs + 1), train_losses, label='Train', color='blue')\n",
    "axes[0].set_xlabel('Epoch')\n",
    "axes[0].set_ylabel('Loss')\n",
    "axes[0].set_title('Training Loss')\n",
    "axes[0].legend()\n",
    "\n",
    "# Validation Loss 그래프\n",
    "axes[1].plot(range(1, actual_epochs + 1), valid_losses, label='Validation', color='orange')\n",
    "axes[1].set_xlabel('Epoch')\n",
    "axes[1].set_ylabel('Loss')\n",
    "axes[1].set_title('Validation Loss')\n",
    "axes[1].legend()\n",
    "\n",
    "# 그래프 출력\n",
    "plt.tight_layout()\n",
    "plt.show()"
   ]
  }
 ],
 "metadata": {
  "accelerator": "GPU",
  "colab": {
   "gpuType": "T4",
   "provenance": []
  },
  "kernelspec": {
   "display_name": "Python 3 (ipykernel)",
   "language": "python",
   "name": "python3"
  },
  "language_info": {
   "codemirror_mode": {
    "name": "ipython",
    "version": 3
   },
   "file_extension": ".py",
   "mimetype": "text/x-python",
   "name": "python",
   "nbconvert_exporter": "python",
   "pygments_lexer": "ipython3",
   "version": "3.11.7"
  },
  "toc": {
   "base_numbering": 1,
   "nav_menu": {},
   "number_sections": false,
   "sideBar": true,
   "skip_h1_title": false,
   "title_cell": "Table of Contents",
   "title_sidebar": "Contents",
   "toc_cell": false,
   "toc_position": {},
   "toc_section_display": true,
   "toc_window_display": false
  }
 },
 "nbformat": 4,
 "nbformat_minor": 5
}
